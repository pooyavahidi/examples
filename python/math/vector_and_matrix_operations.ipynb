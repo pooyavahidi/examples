{
 "cells": [
  {
   "cell_type": "markdown",
   "metadata": {},
   "source": [
    "# Vector and Matrix Operations"
   ]
  },
  {
   "cell_type": "markdown",
   "metadata": {},
   "source": [
    "## Vectors\n",
    "Vector is a one-dimensional ordered array of numbers. It can be represented as a single column or row matrix.\n",
    "\n",
    "Vector $\\vec{\\mathbf{v}}$ with $n$ elements can be represented as:\n",
    "\n",
    "$\\vec{\\mathbf{v}} = \\begin{bmatrix} v_1 \\\\ v_2 \\\\ \\vdots \\\\ v_n \\end{bmatrix}$\n",
    "\n",
    "In python, we can represent a vector as a list of numbers.\n",
    "```python\n",
    "v = [1, 2, 3, 4, 5]\n",
    "\n",
    "```\n",
    "\n",
    "Note: In math, vectors are 1-indexed (start from index 1), but in programming, they are 0-indexed.\n",
    "```python\n",
    "v[0] = 1\n",
    "v[1] = 2\n",
    "```\n",
    "\n",
    "Although we can use python built-in lists to represent vectors and perform operations on them, it is easier and more efficient to use numpy arrays. Numpy uses highly optimized C code to perform parallel operations on arrays using vectorized operations. So, we will use numpy arrays to represent vectors and matrices in this notebook.\n"
   ]
  },
  {
   "cell_type": "code",
   "execution_count": null,
   "metadata": {},
   "outputs": [],
   "source": [
    "import numpy as np"
   ]
  },
  {
   "cell_type": "code",
   "execution_count": null,
   "metadata": {},
   "outputs": [],
   "source": [
    "# Create a vector with 4 elements\n",
    "v = np.array([1, 2, 3, 4])  # [1, 2, 3, 4]\n",
    "\n",
    "# Create an empty vector with 4 elements and fill it with 0\n",
    "v = np.zeros(4)  # [0, 0, 0, 0]\n",
    "\n",
    "# Create a vector with 4 elements and fill it with 1\n",
    "v = np.ones(4)  # [1, 1, 1, 1]\n",
    "\n",
    "# Create a vector with 4 elements and fill it with a specific value e.g. 7\n",
    "v = np.full(4, 7)  # [7, 7, 7, 7]\n",
    "\n",
    "# Create a vector with 4 elements and fill it with random values\n",
    "v = np.random.rand(4)  # [0.1, 0.2, 0.3, 0.4]\n",
    "\n",
    "# Create a vector with 4 elements start from 0\n",
    "v = np.arange(4)  # [0, 1, 2, 3]"
   ]
  },
  {
   "cell_type": "markdown",
   "metadata": {},
   "source": [
    "A vector is a 1-D array in numpy.\n",
    "- `shape` is the dimensions of the array and size of the array in each dimension.\n",
    "- `dtype` is the data type of the array\n",
    "\n",
    "For example, in the above, `v` is a 1-D array with 4 elements. So, the shape is `(4,)`.\n",
    "\n",
    "> A matrix is a 2-D array in numpy."
   ]
  },
  {
   "cell_type": "code",
   "execution_count": null,
   "metadata": {},
   "outputs": [],
   "source": [
    "# shape and data type of the vectors\n",
    "print(v, v.shape, v.dtype)"
   ]
  },
  {
   "cell_type": "markdown",
   "metadata": {},
   "source": [
    "### Accessing elements of a vector "
   ]
  },
  {
   "cell_type": "code",
   "execution_count": null,
   "metadata": {},
   "outputs": [],
   "source": [
    "# First element\n",
    "first_element = v[0]  # 0\n",
    "\n",
    "# Accessing elements. Index starts from 0\n",
    "second_element = v[1]  # 1\n",
    "\n",
    "# Last element\n",
    "last_element = v[-1]  # 3"
   ]
  },
  {
   "cell_type": "markdown",
   "metadata": {},
   "source": [
    "**Slicing**: Accessing a subset of elements of a vector.\n"
   ]
  },
  {
   "cell_type": "code",
   "execution_count": null,
   "metadata": {},
   "outputs": [],
   "source": [
    "# Create a vector with 10 elements\n",
    "v = np.arange(10)  # [0, 1, 2, 3, 4, 5, 6, 7, 8, 9]\n",
    "\n",
    "# access 5 consecutive elements (start:stop:step)\n",
    "c = v[2:7:1]  # [2, 3, 4, 5, 6]\n",
    "\n",
    "# access 3 elements separated by two\n",
    "c = v[2:7:2]  # [2, 4, 6]\n",
    "\n",
    "# access all elements index 3 and above (start:)\n",
    "c = v[3:]  # [3, 4, 5, 6, 7, 8, 9]\n",
    "\n",
    "# access all elements below index 3 (:stop)\n",
    "c = v[:3]  # [0, 1, 2]\n",
    "\n",
    "# access all elements\n",
    "c = v[:]  # [0, 1, 2, 3, 4, 5, 6, 7, 8, 9]"
   ]
  },
  {
   "cell_type": "markdown",
   "metadata": {},
   "source": [
    "### Operations on a single vector"
   ]
  },
  {
   "cell_type": "code",
   "execution_count": null,
   "metadata": {},
   "outputs": [],
   "source": [
    "# Negate elements in a vector\n",
    "neg_v = -v  # [0, -1, -2, -3, -4, -5, -6, -7, -8, -9]\n",
    "\n",
    "# Sum of all elements\n",
    "sum_v = np.sum(v)  # 45\n",
    "\n",
    "# Mean of all elements\n",
    "mean_v = np.mean(v)  # 4.5\n",
    "\n",
    "# Standard deviation of all elements\n",
    "std_v = np.std(v)  # 2.8722813232690143\n",
    "\n",
    "# Increase the value of all elements by 1\n",
    "v = v + 1  # [1, 2, 3, 4, 5, 6, 7, 8, 9, 10]\n",
    "\n",
    "# Multiply all elements by 2\n",
    "v = v * 2  # [2, 8, 18, 32, 50, 72, 98, 128, 162, 200]\n",
    "\n",
    "# Power of 2 for all elements\n",
    "v = v**2  # [1, 4, 9, 16, 25, 36, 49, 64, 81, 100]"
   ]
  },
  {
   "cell_type": "markdown",
   "metadata": {},
   "source": [
    "### Operations on multiple vectors \n",
    "Numpy provides a lot of functions to perform operations on vectors. Read more on [Vector Operations](../../math/vectors_and_matrices.md#Vector-Operations)."
   ]
  },
  {
   "cell_type": "code",
   "execution_count": null,
   "metadata": {},
   "outputs": [],
   "source": [
    "# Create a vector with 5 elements\n",
    "a = np.arange([1, 2, 3, 4, 5])\n",
    "b = np.arange([6, 7, 8, 9, 10])\n",
    "\n",
    "# Add two vectors\n",
    "c = a + b  # [7, 9, 11, 13, 15]\n",
    "\n",
    "# Subtract two vectors\n",
    "c = a - b  # [-5, -5, -5, -5, -5]\n",
    "\n",
    "# Dot product of two vectors\n",
    "dot = np.dot(a, b)  # 130"
   ]
  },
  {
   "cell_type": "markdown",
   "metadata": {},
   "source": [
    "## Matrices\n",
    "Matrix is a two-dimensional ordered array of numbers. It can be represented as a 2-D array.\n",
    "\n",
    "Matrix $\\mathbf{A}$ with $m$ rows and $n$ columns can be represented as:\n",
    "$$\\mathbf{A} = \\begin{bmatrix} a_{11} & a_{12} & \\cdots & a_{1n} \\\\ a_{21} & a_{22} & \\cdots & a_{2n} \\\\ \\vdots & \\vdots & \\ddots & \\vdots \\\\ a_{m1} & a_{m2} & \\cdots & a_{mn} \\end{bmatrix}$$\n",
    "\n",
    "For example, a matrix $\\mathbf{A}$ with 2 rows and 3 columns can be represented as:\n",
    "$$\\mathbf{A} = \\begin{bmatrix} 1 & 2 & 3 \\\\ 4 & 5 & 6 \\end{bmatrix}$$"
   ]
  },
  {
   "cell_type": "code",
   "execution_count": null,
   "metadata": {},
   "outputs": [],
   "source": [
    "# Create a 2x3 matrix. 2 rows and 3 columns\n",
    "# This matrix is a 2-dimensional array with 2 elements in the first dimension\n",
    "# and 3 elements in the second dimension.\n",
    "A = np.array([[1, 2, 3], [4, 5, 6]])\n",
    "\n",
    "\n",
    "# The shape of the matrix is (2, 3), which means 2 rows and 3 columns.\n",
    "A.shape  # (2, 3)"
   ]
  },
  {
   "cell_type": "markdown",
   "metadata": {},
   "source": [
    "### Accessing elements of a matrix"
   ]
  },
  {
   "cell_type": "code",
   "execution_count": null,
   "metadata": {},
   "outputs": [],
   "source": [
    "# Access a specific element in the matrix\n",
    "element_11 = A[0, 0]  # 1\n",
    "element_23 = A[1, 2]  # 6\n",
    "\n",
    "# Access a specific row in the matrix\n",
    "row_1 = A[0, :]  # [1, 2, 3]\n",
    "\n",
    "# row_1 is a 1-dimensional array with 3 elements. Which means it is a row vector.\n",
    "row_1.shape  # (3,)"
   ]
  },
  {
   "cell_type": "markdown",
   "metadata": {},
   "source": [
    "**`reshape`**: Reshaping a matrix to a different shape.\n",
    "Since vectors and matrices are numpy arrays, we can use the `reshape` function to change the shape of the array. for example:\n",
    "\n",
    "We can create an array with 12 elements like this:\n",
    "```python\n",
    "a = np.array([1, 2, 3, 4, 5, 6, 7, 8, 9, 10, 11, 12])\n",
    "```\n",
    "\n",
    "Then we can reshape it in any way we want. For example, we can reshape it to a 2x6 matrix like this:\n",
    "```python\n",
    "a = a.reshape(2, 6)\n",
    "```\n",
    "Which will give us:\n",
    "```py\n",
    "array([[ 1,  2,  3,  4,  5,  6],\n",
    "       [ 7,  8,  9, 10, 11, 12]])\n",
    "```\n",
    "\n",
    "Or we can reshape it to a 3x4 matrix like this:\n",
    "```python\n",
    "a = a.reshape(3, 4)\n",
    "```\n",
    "Which will give us:\n",
    "```py\n",
    "array([[ 1,  2,  3,  4],\n",
    "       [ 5,  6,  7,  8],\n",
    "       [ 9, 10, 11, 12]])\n",
    "```\n"
   ]
  },
  {
   "cell_type": "code",
   "execution_count": null,
   "metadata": {},
   "outputs": [],
   "source": [
    "a = np.array([1, 2, 3, 4, 5, 6, 7, 8, 9, 10, 11, 12])\n",
    "\n",
    "# Reshape the vector to a 3x4 matrix. 3 rows and 4 columns\n",
    "A = a.reshape(3, 4)"
   ]
  },
  {
   "cell_type": "markdown",
   "metadata": {},
   "source": [
    "**Slicing**: Accessing a subset of elements of a matrix."
   ]
  },
  {
   "cell_type": "code",
   "execution_count": null,
   "metadata": {},
   "outputs": [],
   "source": [
    "A = np.array([[1, 2, 3], [4, 5, 6], [7, 8, 9]])\n",
    "\n",
    "# 2 elements in the first row (start:stop:step)\n",
    "A[0, 0:2]  # [1, 2]\n",
    "\n",
    "# 2 elements in the first column (start:stop:step)\n",
    "A[0:2, 0]  # [1, 4]\n",
    "\n",
    "# All elements in the first row\n",
    "A[0, :]  # [1, 2, 3]\n",
    "\n",
    "# All elements\n",
    "A[:, :]  # [[1, 2, 3], [4, 5, 6], [7, 8, 9]]"
   ]
  },
  {
   "cell_type": "markdown",
   "metadata": {},
   "source": [
    "### Operations on a single matrix\n"
   ]
  },
  {
   "cell_type": "code",
   "execution_count": null,
   "metadata": {},
   "outputs": [],
   "source": [
    "A = np.array([[1, 2, 3], [4, 5, 6], [7, 8, 9]])\n",
    "\n",
    "# Transpose the matrix\n",
    "A_T = A.T  # [[1, 4, 7], [2, 5, 8], [3, 6, 9]]\n",
    "\n",
    "# Mean of all elements\n",
    "mean_A = np.mean(A)  # 5.0\n",
    "\n",
    "# Mean of each column. axis=0 means columns\n",
    "mean_A_col = np.mean(A, axis=0)  # [4.0, 5.0, 6.0]\n",
    "\n",
    "# Mean of each row. axis=1 means rows\n",
    "mean_A_row = np.mean(A, axis=1)  # [2.0, 5.0, 8.0]"
   ]
  },
  {
   "cell_type": "markdown",
   "metadata": {},
   "source": [
    "### Combining two vectors to form a matrix\n",
    "\n",
    "We can use `np.column_stack` or `np.row_stack` to combine two vectors to form a matrix."
   ]
  },
  {
   "cell_type": "code",
   "execution_count": null,
   "metadata": {},
   "outputs": [],
   "source": [
    "v1 = np.array([1, 2, 3])\n",
    "v2 = np.array([4, 5, 6])\n",
    "\n",
    "# Use column_stack to combine two vectors in respective of columns.\n",
    "A = np.column_stack([v1, v2])  # [[1, 4], [2, 5], [3, 6]]\n",
    "\n",
    "# Use row_stack to combine two vectors in respective of rows.\n",
    "A = np.row_stack([v1, v2])  # [[1, 2, 3], [4, 5, 6]]"
   ]
  },
  {
   "cell_type": "markdown",
   "metadata": {},
   "source": [
    "### Operations on multiple matrices"
   ]
  },
  {
   "cell_type": "code",
   "execution_count": null,
   "metadata": {},
   "outputs": [],
   "source": [
    "# matrix multiplication\n",
    "A = np.array([[1, 2, 3], [4, 5, 6]])\n",
    "B = np.array([[7, 8], [9, 10], [11, 12]])\n",
    "\n",
    "C = np.matmul(A, B)  # [[58, 64], [139, 154]]"
   ]
  },
  {
   "cell_type": "markdown",
   "metadata": {},
   "source": [
    "## Persisting arrays\n",
    "\n",
    "Numpy provides functions to save and load arrays from disk. We can use `np.save` and `np.load` to save and load arrays respectively. `np.save` creates a `.npy` file which stores the array in binary format. We can load the array using `np.load`.\n",
    "\n",
    "```python\n",
    "a = np.array([1, 2, 3, 4, 5])\n",
    "\n",
    "# Save the array to disk\n",
    "np.save('my_array.npy', a)\n",
    "\n",
    "# Load the array from disk\n",
    "a = np.load('my_array.npy')\n",
    "```\n",
    "\n",
    "\n",
    "If the array is very large (larger than the available machine memory), we can use different methods to save and load the array. Tools like `np.memmap`, `h5py`, `pytables`, `HDF5`, `parquet`, `pyarrow`, `dask`, etc can be used to save and load large arrays. \n",
    "\n",
    "In context of machine learning, depending on the ML framework we are using, we can use the built-in features of that framework to save and load large datasets. For example, in TensorFlow, we can use TFRecord and in pytorch, torch files.\n",
    "\n",
    "\n"
   ]
  }
 ],
 "metadata": {
  "kernelspec": {
   "display_name": "base",
   "language": "python",
   "name": "python3"
  },
  "language_info": {
   "codemirror_mode": {
    "name": "ipython",
    "version": 3
   },
   "file_extension": ".py",
   "mimetype": "text/x-python",
   "name": "python",
   "nbconvert_exporter": "python",
   "pygments_lexer": "ipython3",
   "version": "3.11.5"
  }
 },
 "nbformat": 4,
 "nbformat_minor": 2
}
