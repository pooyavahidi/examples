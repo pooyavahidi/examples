{
 "cells": [
  {
   "cell_type": "markdown",
   "metadata": {},
   "source": [
    "# Derivative of Matrices"
   ]
  },
  {
   "cell_type": "markdown",
   "metadata": {},
   "source": [
    "When we take derivative of single variable in calculus, we are finding the effect of a small change in the variable $x$ on the function $f(x)$. \n",
    "\n",
    "$$\\frac{df}{dx} = \\lim_{\\Delta x \\to 0} \\frac{f(x + \\Delta x) - f(x)}{\\Delta x}$$\n",
    "\n",
    "We can extend this idea to matrices. A matrix is a collection of variables (multivariate). So, we can think of the derivative of a matrix as a collection of derivatives of each variable in the matrix.\n",
    "\n",
    "For example for the function $F(A)$ where $A$ is a matrix, we can write the derivative as:\n",
    "\n",
    "$$\\frac{dF}{dA} = \\begin{bmatrix}\n",
    "\\frac{\\partial F}{\\partial a_{11}} & \\frac{\\partial F}{\\partial a_{12}} & \\cdots & \\frac{\\partial F}{\\partial a_{1n}} \\\\\n",
    "\\frac{\\partial F}{\\partial a_{21}} & \\frac{\\partial F}{\\partial a_{22}} & \\cdots & \\frac{\\partial F}{\\partial a_{2n}} \\\\\n",
    "\\vdots & \\vdots & \\ddots & \\vdots \\\\\n",
    "\\frac{\\partial F}{\\partial a_{m1}} & \\frac{\\partial F}{\\partial a_{m2}} & \\cdots & \\frac{\\partial F}{\\partial a_{mn}}\n",
    "\\end{bmatrix}$$\n",
    "Where \n",
    "- $A$ is an $m \\times n$ matrix\n",
    "- $a_{ij}$ is the $(i,j)$-th element of the matrix $A$.\n",
    "- $F(A)$ is a function of the matrix $A$.\n",
    "\n",
    "This is called the **Jacobian matrix**. The Jacobian matrix is a matrix of all first-order partial derivatives of a vector-valued function. It describes how the function changes as the input changes."
   ]
  },
  {
   "cell_type": "markdown",
   "metadata": {},
   "source": [
    "**Scalar-valued function of a matrix**:<br>\n",
    "\n",
    "- Input: a matrix $A \\in \\mathbb{R}^{m \\times n}$\n",
    "- Output: a scalar $F(A) \\in \\mathbb{R}$\n",
    "\n",
    "In this case, the derivative $\\frac{dF}{dA}$ is a matrix of **partial derivatives**. It has the **same shape as $A$**:\n",
    "\n",
    "$$\n",
    "\\left[ \\frac{\\partial F}{\\partial a_{ij}} \\right]_{m \\times n}\n",
    "$$\n"
   ]
  },
  {
   "cell_type": "markdown",
   "metadata": {},
   "source": [
    "**Vector-valued function of a matrix**:\n",
    "\n",
    "- Input: a matrix $A \\in \\mathbb{R}^{m \\times n}$\n",
    "- Output: a matrix $F(A) \\in \\mathbb{R}^{p \\times q}$\n",
    "\n",
    "Then the derivative $\\frac{dF}{dA}$ is a **4D tensor** of shape $(p \\times q) \\times (m \\times n)$:\n",
    "\n",
    "$$\n",
    "\\frac{\\partial F}{\\partial A} = \\left[ \\frac{\\partial f_{kl}}{\\partial a_{ij}} \\right] \\in \\mathbb{R}^{m \\times n \\times p \\times q}\n",
    "$$\n",
    "\n",
    "In practice, to simplify the computation of this 4D tensor, we can **flatten** the input and output matrices into vectors. Flattening (also called **vectorization**) can be done in two ways:\n",
    "\n",
    "**Row-major order**:<br>\n",
    "Stack the rows of the matrix into a single column vector.\n",
    "\n",
    "For example, matrix $A$:\n",
    "$$\n",
    "A = \\begin{bmatrix}\n",
    "1 & 2 & 3 \\\\\n",
    "4 & 5 & 6 \\\\\n",
    "7 & 8 & 9\n",
    "\\end{bmatrix}\n",
    "$$\n",
    "\n",
    "$A$ with $(3 \\times 3)$ shape can be flattened into a vector $a$ of shape $(9 \\times 1)$:\n",
    "\n",
    "$$\n",
    "\\text{vec}(A) = \\begin{bmatrix}\n",
    "1 & 2 & 3 & 4 & 5 & 6 & 7 & 8 & 9\n",
    "\\end{bmatrix}\n",
    "$$\n",
    "\n",
    "**Column-major order**:<br>\n",
    "Stack the columns of the matrix into a single column vector.\n",
    "\n",
    "For example, the same matrix $A$ can be flattened into a vector $a$:\n",
    "\n",
    "$$\n",
    "\\text{vec}(A) = \\begin{bmatrix}\n",
    "1 & 4 & 7 & 2 & 5 & 8 & 3 & 6 & 9\n",
    "\\end{bmatrix}\n",
    "$$\n",
    "\n",
    "Since we are going to use Python and PyTorch in practice, we follow thier convention of **row-major order**. Remember, that whatever convention you choose, you need to be consistent throughout your entire calculations.\n",
    "\n",
    "\n",
    "Each row of Jacobian matrix is called **a gradient vector** of the function with respect to the input matrix. \n"
   ]
  },
  {
   "cell_type": "markdown",
   "metadata": {},
   "source": [
    "## Scalar-valued Function of a Matrix\n",
    "This is the case when the function $F(A)$ is a scalar value (not a matrix). In this case, the Jacobian matrix is a row vector. \n",
    "\n",
    "For example, let's say we have the following that takes a matrix $A$ and returns the sum of all the elements in the matrix multiplied by $2$. So, the output is a scalar value.\n",
    "\n",
    "$$F(A) = 2\\,\\text{sum}(A)$$\n",
    "\n",
    "Which can be written as:\n",
    "\n",
    "$$F(A) = 2\\sum _{i=1}^{m}\\sum_{j=1}^{n} a_{ij}$$\n",
    "\n",
    "\n",
    "\n",
    "If we have matrix $A$ in shape of $2 \\times 3$:\n",
    "$$A = \\begin{bmatrix}\n",
    "a_{11} & a_{12} & a_{13} \\\\\n",
    "a_{21} & a_{22} & a_{23}\n",
    "\\end{bmatrix}$$\n",
    "\n",
    "We need to broadcast $2$ to the shape of $A$ to perform the multiplication. So we can think of $F(A)$ as:\n",
    "$$F(A) = \\begin{bmatrix} 2 & 2 & 2 \\\\ 2 & 2 & 2 \\end{bmatrix} \\odot\n",
    "\\begin{bmatrix}\n",
    "a_{11} & a_{12} & a_{13} \\\\ a_{21} & a_{22} & a_{23} \\end{bmatrix}$$ \n",
    "\n",
    "Then $F(A)$ is a scalar value:\n",
    "\n",
    "$$F(A) = 2a_{11} + 2a_{12} + 2a_{13} + 2a_{21} + 2a_{22} + 2a_{23}$$ "
   ]
  },
  {
   "cell_type": "markdown",
   "metadata": {},
   "source": [
    "Now, let's calculate the derivative of $F(A)$ with respect to $A$:\n",
    "\n",
    "$$\\frac{dF}{dA} = \\begin{bmatrix}\n",
    "\\frac{\\partial F}{\\partial a_{11}} & \\frac{\\partial F}{\\partial a_{12}} & \\frac{\\partial F}{\\partial a_{13}} \\\\\n",
    "\\frac{\\partial F}{\\partial a_{21}} & \\frac{\\partial F}{\\partial a_{22}} & \\frac{\\partial F}{\\partial a_{23}}\n",
    "\\end{bmatrix}$$"
   ]
  },
  {
   "cell_type": "markdown",
   "metadata": {},
   "source": [
    "We can simply take the derivative of $F(A)$ with respect to each element of the matrix $A$:\n",
    "\n",
    "For the first row:\n",
    "$$\\frac{\\partial F}{\\partial a_{11}} = 2 \\quad \\frac{\\partial F}{\\partial a_{12}} = 2 \\quad \\frac{\\partial F}{\\partial a_{13}} = 2$$\n",
    "\n",
    "For the second row:\n",
    "$$\\frac{\\partial F}{\\partial a_{21}} = 2 \\quad \\frac{\\partial F}{\\partial a_{22}} = 2 \\quad \\frac{\\partial F}{\\partial a_{23}} = 2$$\n",
    "\n",
    "So, the Jacobian matrix is:\n",
    "\n",
    "$$\\frac{dF}{dA} = \\begin{bmatrix} 2 & 2 & 2 \\\\ 2 & 2 & 2 \\end{bmatrix}$$"
   ]
  },
  {
   "cell_type": "markdown",
   "metadata": {},
   "source": [
    "**Example:**\n",
    "\n",
    "Let's say we have the following matrix $A$:\n",
    "\n",
    "$$A = \\begin{bmatrix} 1 & 2 & 3 \\\\ 4 & 5 & 6 \\end{bmatrix}$$\n",
    "\n",
    "The $F(A)$ is a scalar-valued function of the matrix $A$:\n",
    "\n",
    "$$F(A) = 2\\times 1 + 2\\times 2 + 2\\times 3 + 2\\times 4 + 2\\times 5 + 2\\times 6 = 42$$"
   ]
  },
  {
   "cell_type": "markdown",
   "metadata": {},
   "source": [
    "Let's use PyTorch `autograd` for our derivative calculation.\n"
   ]
  },
  {
   "cell_type": "code",
   "execution_count": 1,
   "metadata": {},
   "outputs": [
    {
     "name": "stdout",
     "output_type": "stream",
     "text": [
      "A:\n",
      "tensor([[1., 2., 3.],\n",
      "        [4., 5., 6.]], requires_grad=True)\n",
      "Z:\n",
      "42.0\n"
     ]
    }
   ],
   "source": [
    "import torch\n",
    "\n",
    "A = torch.tensor(\n",
    "    [[1, 2, 3], [4, 5, 6]], dtype=torch.float32, requires_grad=True\n",
    ")\n",
    "\n",
    "F = (2 * A).sum()\n",
    "\n",
    "print(f\"A:\\n{A}\")\n",
    "print(f\"Z:\\n{F}\")"
   ]
  },
  {
   "cell_type": "markdown",
   "metadata": {},
   "source": [
    "Now we use PyTorch computional graph to go backward to the graph and calculate the derivative of $F$ with respect to $A$.\n"
   ]
  },
  {
   "cell_type": "code",
   "execution_count": 2,
   "metadata": {},
   "outputs": [],
   "source": [
    "F.backward()"
   ]
  },
  {
   "cell_type": "code",
   "execution_count": 3,
   "metadata": {},
   "outputs": [
    {
     "name": "stdout",
     "output_type": "stream",
     "text": [
      "\n",
      "A_t.grad:\n",
      "tensor([[2., 2., 2.],\n",
      "        [2., 2., 2.]])\n"
     ]
    }
   ],
   "source": [
    "print(f\"\\nA_t.grad:\\n{A.grad}\")"
   ]
  },
  {
   "cell_type": "markdown",
   "metadata": {},
   "source": [
    "## Vector-valued Function of a Matrix\n",
    "\n",
    "Let's say we have the following function:\n",
    "\n",
    "$$Z(A,W,B) = A.W + B$$\n",
    "\n",
    "And we want to calculate the partial derivative of $Z$ with respect to $W$.\n",
    "\n",
    "$$\\frac{\\partial Z}{\\partial W} = ?$$\n",
    "\n",
    "Function $Z$ takes a matrix $A$, $W$ and $B$ as inputs. The output is a matrix $Z$."
   ]
  },
  {
   "cell_type": "markdown",
   "metadata": {},
   "source": [
    "Let's say we have the following matrices:\n",
    "\n",
    "$$A = \\begin{bmatrix} 1 & 2 & 3 \\\\ 4 & 5 & 6 \\end{bmatrix}, \\quad\n",
    "W = \\begin{bmatrix} w_{11} & w_{12} \\\\ w_{21} & w_{22} \\\\ w_{31} & w_{32} \\end{bmatrix}, \\quad \n",
    "B = \\begin{bmatrix} 13 & 14 \\end{bmatrix}$$\n",
    "\n"
   ]
  },
  {
   "cell_type": "markdown",
   "metadata": {},
   "source": [
    "$Z$ is calculated as:\n",
    "\n",
    "$$Z = \\begin{bmatrix}\n",
    "1 & 2 & 3 \\\\ 4 & 5 & 6\n",
    "\\end{bmatrix}\n",
    "\\cdot\n",
    "\\begin{bmatrix}\n",
    "w_{11} & w_{12} \\\\ w_{21} & w_{22} \\\\ w_{31} & w_{32}\n",
    "\\end{bmatrix}\n",
    "+ \\begin{bmatrix}\n",
    "13 & 14\n",
    "\\end{bmatrix}$$\n"
   ]
  },
  {
   "cell_type": "markdown",
   "metadata": {},
   "source": [
    "Which is a matrix of shape $2 \\times 2$:\n",
    "\n",
    "$$Z = \\begin{bmatrix}\n",
    "1w_{11} + 2w_{21} + 3w_{31} + 13 & 1w_{12} + 2w_{22} + 3w_{32} + 14 \\\\\n",
    "4w_{11} + 5w_{21} + 6w_{31} + 13 & 4w_{12} + 5w_{22} + 6w_{32} + 14\n",
    "\\end{bmatrix}$$\n"
   ]
  },
  {
   "cell_type": "markdown",
   "metadata": {},
   "source": [
    "Derivative of $Z$ with respect to $W$ is:\n",
    "\n",
    "$$\\frac{\\partial Z}{\\partial W} = \\begin{bmatrix}\n",
    "\\frac{\\partial Z}{\\partial w_{11}} & \\frac{\\partial Z}{\\partial w_{12}} \\\\\n",
    "\\frac{\\partial Z}{\\partial w_{21}} & \\frac{\\partial Z}{\\partial w_{22}} \\\\\n",
    "\\frac{\\partial Z}{\\partial w_{31}} & \\frac{\\partial Z}{\\partial w_{32}}\n",
    "\\end{bmatrix}$$\n",
    "\n",
    "As we discussed earlier, $Z$ by itself is a matrix of shape $2 \\times 2$, and our goal is to find how every element $z_{kl}$ in $Z$ changes with respect to an element of $w_{ij}$ in $W$. However, this matrix is 4D tensor of shape $(2 \\times 2) \\times (3 \\times 2)$.\n",
    "\n",
    "We have the following:\n",
    "- $Z \\in \\mathbb{R}^{2 \\times 2}$\n",
    "- $W \\in \\mathbb{R}^{3 \\times 2}$\n",
    "- We want to compute $\\frac{dZ}{dW}$\n",
    "\n",
    "Since each element $z_{kl}$ in $Z$ can depend on every element $w_{ij}$ in $W$, the **full derivative** really is:\n",
    "\n",
    "$$\n",
    "\\frac{\\partial Z}{\\partial W} = \\left[ \\frac{\\partial z_{kl}}{\\partial w_{ij}} \\right] \\in \\mathbb{R}^{2 \\times 2 \\times 3 \\times 2}\n",
    "$$\n",
    "\n",
    "So, we have to flatten (vectorize) the input and output matrices into vectors and create a Jacobian matrix of shape $((2 \\times 2) \\times (3 \\times 2)) = (4 \\times 6)$."
   ]
  },
  {
   "cell_type": "markdown",
   "metadata": {},
   "source": [
    "**Vectorize (Flatten) the output $Z$**<br>\n",
    "Turn the matrix $Z \\in \\mathbb{R}^{m \\times n}$ into a vector of size **$mn$**:\n",
    "\n",
    "$$\n",
    "\\text{vec}(Z) = \\begin{bmatrix} z_{11} & z_{12} & z_{21} & z_{22} \\end{bmatrix}\n",
    "$$\n",
    "\n",
    "> Note: In this example, we use row-major order to flatten the matrix to a vector."
   ]
  },
  {
   "cell_type": "markdown",
   "metadata": {},
   "source": [
    "**Vectorize (Flatten) the input $W$**<br>\n",
    "Similarly, flatten the matrix $W \\in \\mathbb{R}^{p \\times q}$ into a vector of size **$pq$**:\n",
    "\n",
    "$$\n",
    "\\text{vec}(W) = \\begin{bmatrix} w_{11} & w_{12} & w_{21} & w_{22} & w_{31} & w_{32} \\end{bmatrix}\n",
    "$$\n"
   ]
  },
  {
   "cell_type": "markdown",
   "metadata": {},
   "source": [
    "**Build the Jacobian Matrix**:<br>\n",
    "\n",
    "The 2D Jacobian has shape $(mn) \\times (pq)$, which is $(4 \\times 6)$ in this case. \n",
    "\n",
    "$$\n",
    "\\frac{\\partial\\, \\text{vec}(Z)}{\\partial \\,\\text{vec}(W)} \\in \\mathbb{R}^{4 \\times 6}\n",
    "$$\n",
    "\n",
    "We can write the Jacobian as:\n",
    "\n",
    "$$\n",
    "\\frac{\\partial\\,\\text{vec}(Z)}{\\partial\\,\\text{vec}(W)} =\n",
    "\\begin{bmatrix}\n",
    "\\frac{\\partial z_{11}}{\\partial w_{11}} & \\frac{\\partial z_{11}}{\\partial w_{12}} & \\frac{\\partial z_{11}}{\\partial w_{21}} & \\frac{\\partial z_{11}}{\\partial w_{22}} & \\frac{\\partial z_{11}}{\\partial w_{31}} & \\frac{\\partial z_{11}}{\\partial w_{32}} \\\\\n",
    "\\frac{\\partial z_{12}}{\\partial w_{11}} & \\frac{\\partial z_{12}}{\\partial w_{12}} & \\frac{\\partial z_{12}}{\\partial w_{21}} & \\frac{\\partial z_{12}}{\\partial w_{22}} & \\frac{\\partial z_{12}}{\\partial w_{31}} & \\frac{\\partial z_{12}}{\\partial w_{32}} \\\\\n",
    "\\frac{\\partial z_{21}}{\\partial w_{11}} & \\frac{\\partial z_{21}}{\\partial w_{12}} & \\frac{\\partial z_{21}}{\\partial w_{21}} & \\frac{\\partial z_{21}}{\\partial w_{22}} & \\frac{\\partial z_{21}}{\\partial w_{31}} & \\frac{\\partial z_{21}}{\\partial w_{32}} \\\\\n",
    "\\frac{\\partial z_{22}}{\\partial w_{11}} & \\frac{\\partial z_{22}}{\\partial w_{12}} & \\frac{\\partial z_{22}}{\\partial w_{21}} & \\frac{\\partial z_{22}}{\\partial w_{22}} & \\frac{\\partial z_{22}}{\\partial w_{31}} & \\frac{\\partial z_{22}}{\\partial w_{32}}\n",
    "\\end{bmatrix}\n",
    "$$\n"
   ]
  },
  {
   "cell_type": "markdown",
   "metadata": {},
   "source": [
    "**Rows** = one element of $\\text{vec}(Z)$ with respect to all elements of $\\text{vec}(W)$\n",
    "**Columns** = all elements of $\\text{vec}(Z)$ with respect to one element of $\\text{vec}(W)$ \n",
    "\n",
    "\n",
    "We can see it as just a table of **all the partial derivatives** of each output element with respect to each input element.\n"
   ]
  },
  {
   "cell_type": "markdown",
   "metadata": {},
   "source": [
    "Recall this is $Z$:\n",
    "\n",
    "$$Z = \\begin{bmatrix}\n",
    "1w_{11} + 2w_{21} + 3w_{31} + 13 & 1w_{12} + 2w_{22} + 3w_{32} + 14 \\\\\n",
    "4w_{11} + 5w_{21} + 6w_{31} + 13 & 4w_{12} + 5w_{22} + 6w_{32} + 14\n",
    "\\end{bmatrix}$$"
   ]
  },
  {
   "cell_type": "markdown",
   "metadata": {},
   "source": [
    "So, the partial derivatives for the first row of Jacobian matrix are: \n",
    "\n",
    "$$\n",
    "\\frac{\\partial z_{11}}{\\partial w_{11}} = 1, \\quad \n",
    "\\frac{\\partial z_{11}}{\\partial w_{12}} = 0, \\quad \n",
    "\\frac{\\partial z_{11}}{\\partial w_{21}} = 2, \\quad \n",
    "\\frac{\\partial z_{11}}{\\partial w_{22}} = 0, \\quad \n",
    "\\frac{\\partial z_{11}}{\\partial w_{31}} = 3, \\quad \n",
    "\\frac{\\partial z_{11}}{\\partial w_{32}} = 0\n",
    "$$\n",
    "\n",
    "If we continue this for all other rows of the Jacobian, we get the matrix of partial derivatives of $Z$ with respect to $W$:\n",
    "\n",
    "$$\n",
    "\\frac{\\partial\\, \\text{vec}(Z)}{\\partial\\,\\text{vec}(W)} =\n",
    "\\begin{bmatrix} 1 & 0 & 2 & 0 & 3 & 0 \\\\\n",
    "0 & 1 & 0 & 2 & 0 & 3 \\\\\n",
    "4 & 0 & 5 & 0 & 6 & 0 \\\\\n",
    "0 & 4 & 0 & 5 & 0 & 6\n",
    "\\end{bmatrix}\n",
    "$$"
   ]
  },
  {
   "cell_type": "markdown",
   "metadata": {},
   "source": [
    "## Chain Rule"
   ]
  },
  {
   "cell_type": "markdown",
   "metadata": {},
   "source": [
    "Let's say we have $Z$ which is a function of matrix $A$, $W$ and $B$, similar to the previous example:\n",
    "\n",
    "$$Z = A.W + B$$\n",
    "\n",
    "And we also have function $S$ which is a function of $Z$:\n",
    "$$S = \\sum_{i=1}^{m}\\sum_{j=1}^{n} z_{ij}$$\n",
    "\n",
    "Now we want to calculate the derivative of $S$ with respect to $W$ using the chain rule:\n",
    "\n",
    "$$\\frac{\\partial S}{\\partial W} = \\frac{\\partial S}{\\partial Z} \\cdot \\frac{\\partial Z}{\\partial W}$$\n",
    "\n",
    "We use the same matrix $A$, $W$ and $B$ as before:\n",
    "\n",
    "$$A = \\begin{bmatrix} 1 & 2 & 3 \\\\ 4 & 5 & 6 \\end{bmatrix}, \\quad\n",
    "W = \\begin{bmatrix} w_{11} & w_{12} \\\\ w_{21} & w_{22} \\\\ w_{31} & w_{32} \\end{bmatrix}, \\quad \n",
    "B = \\begin{bmatrix} 13 & 14 \\end{bmatrix}$$"
   ]
  },
  {
   "cell_type": "markdown",
   "metadata": {},
   "source": [
    "Recall that we calculated $Z$ as:\n",
    "\n",
    "$$Z = \\begin{bmatrix}\n",
    "1w_{11} + 2w_{21} + 3w_{31} + 13 & 1w_{12} + 2w_{22} + 3w_{32} + 14 \\\\\n",
    "4w_{11} + 5w_{21} + 6w_{31} + 13 & 4w_{12} + 5w_{22} + 6w_{32} + 14\n",
    "\\end{bmatrix}$$"
   ]
  },
  {
   "cell_type": "markdown",
   "metadata": {},
   "source": [
    "Now the function $S$ which is scalar valued function of $Z$ is:\n",
    "\n",
    "$$S = \\sum_{i=1}^{m}\\sum_{j=1}^{n} z_{ij} = z_{11} + z_{12} + z_{21} + z_{22}$$\n",
    "\n",
    "Which we can calculate as:\n",
    "\n",
    "$$S = z_{11} + z_{12} + z_{21} + z_{22}$$\n",
    "\n",
    "And if we substitute the values of $z_{ij}$ we have:\n",
    "\n",
    "$$S = (1 + 4)w_{11} + (2 + 5)w_{21} + (3 + 6)w_{31} + (1 + 4)w_{12} + (2 + 5)w_{22} + (3 + 6)w_{32} + 54$$ \n"
   ]
  },
  {
   "cell_type": "markdown",
   "metadata": {},
   "source": [
    "Derivative of $S$ with respect to $Z$ is:\n",
    "\n",
    "$$\\frac{\\partial S}{\\partial Z} = \\begin{bmatrix}\n",
    "\\frac{\\partial S}{\\partial z_{11}} & \\frac{\\partial S}{\\partial z_{12}} \\\\\n",
    "\\frac{\\partial S}{\\partial z_{21}} & \\frac{\\partial S}{\\partial z_{22}}\n",
    "\\end{bmatrix} = \\begin{bmatrix}\n",
    "1 & 1 \\\\ 1 & 1\n",
    "\\end{bmatrix}$$\n"
   ]
  },
  {
   "cell_type": "markdown",
   "metadata": {},
   "source": [
    "We have already calculated the derivative of $Z$ with respect to $W$ in the previous example:\n",
    "\n",
    "$$\n",
    "\\frac{\\partial \\text{vec}(Z)}{\\partial\\text{vec}(W)} =\n",
    "\\begin{bmatrix} 1 & 0 & 2 & 0 & 3 & 0 \\\\\n",
    "0 & 1 & 0 & 2 & 0 & 3 \\\\\n",
    "4 & 0 & 5 & 0 & 6 & 0 \\\\\n",
    "0 & 4 & 0 & 5 & 0 & 6\n",
    "\\end{bmatrix}\n",
    "$$\n",
    "\n"
   ]
  },
  {
   "cell_type": "markdown",
   "metadata": {},
   "source": [
    "Recall that the derivative of $S$ with respect to $W$ is:\n",
    "\n",
    "$$\n",
    "\\frac{\\partial S}{\\partial W} = \\frac{\\partial S}{\\partial Z} \\cdot \\frac{\\partial\\,\\text{vec}(Z)}{\\partial\\, \\text{vec}(W)}\n",
    "$$\n",
    "\n",
    "We already calculated $\\frac{\\partial S}{\\partial Z}$:\n",
    "$$\n",
    "\\frac{\\partial S}{\\partial Z} = \\begin{bmatrix}\n",
    "1 & 1 \\\\ 1 & 1\n",
    "\\end{bmatrix}\n",
    "$$\n",
    "\n",
    "We used the **row-major order** to vectorize the matrices. So, we'll use the same order to vectorize the $\\frac{\\partial S}{\\partial Z}$ matrix.\n",
    "\n",
    "$$\n",
    "\\frac{\\partial S}{\\partial Z} = \\begin{bmatrix}\n",
    "1 & 1 & 1 & 1\n",
    "\\end{bmatrix}\n",
    "$$"
   ]
  },
  {
   "cell_type": "markdown",
   "metadata": {},
   "source": [
    "So, now we can calculate the derivative of $S$ with respect to $W$:\n",
    "\n",
    "$$\n",
    "\\frac{\\partial S}{\\partial W} = \\begin{bmatrix}\n",
    "1 & 1 & 1 & 1\n",
    "\\end{bmatrix}\n",
    "\\cdot\n",
    "\\begin{bmatrix} 1 & 0 & 2 & 0 & 3 & 0 \\\\\n",
    "0 & 1 & 0 & 2 & 0 & 3 \\\\ 4 & 0 & 5 & 0 & 6 & 0 \\\\ 0 & 4 & 0 & 5 & 0 & 6\n",
    "\\end{bmatrix}\n",
    "= \\begin{bmatrix}\n",
    "5 & 5 & 7 & 7 & 9 & 9 \n",
    "\\end{bmatrix}\n",
    "$$\n",
    "\n",
    "> Note that the operation here is the dot product of the two matrices (matrix multiplication, not element-wise multiplication). So, the result is a row vector of size $1 \\times 6$."
   ]
  },
  {
   "cell_type": "markdown",
   "metadata": {},
   "source": [
    "Now we have to reshape the output to the shape of $W$ which is $3 \\times 2$ (reverse of flatteing) using the same order:\n",
    "\n",
    "$$\n",
    "\\frac{\\partial S}{\\partial W} = \\begin{bmatrix}\n",
    "5 & 5 \\\\ 7 & 7 \\\\ 9 & 9 \\end{bmatrix}\n",
    "$$"
   ]
  },
  {
   "cell_type": "code",
   "execution_count": 4,
   "metadata": {},
   "outputs": [
    {
     "name": "stdout",
     "output_type": "stream",
     "text": [
      "Z_t:\n",
      "tensor([[ 76.,  83.],\n",
      "        [163., 179.]], grad_fn=<AddBackward0>)\n",
      "S:\n",
      "501.0\n"
     ]
    }
   ],
   "source": [
    "W = torch.tensor(\n",
    "    [[7, 8], [10, 11], [12, 13]], dtype=torch.float32, requires_grad=True\n",
    ")\n",
    "B = torch.tensor([13, 14], dtype=torch.float32, requires_grad=True)\n",
    "\n",
    "Z = torch.matmul(A, W) + B\n",
    "S = Z.sum()\n",
    "\n",
    "print(f\"Z_t:\\n{Z}\")\n",
    "print(f\"S:\\n{S}\")"
   ]
  },
  {
   "cell_type": "code",
   "execution_count": 5,
   "metadata": {},
   "outputs": [],
   "source": [
    "S.backward()"
   ]
  },
  {
   "cell_type": "code",
   "execution_count": 6,
   "metadata": {},
   "outputs": [
    {
     "name": "stdout",
     "output_type": "stream",
     "text": [
      "\n",
      "W.grad:\n",
      "tensor([[5., 5.],\n",
      "        [7., 7.],\n",
      "        [9., 9.]])\n"
     ]
    }
   ],
   "source": [
    "print(f\"\\nW.grad:\\n{W.grad}\")"
   ]
  }
 ],
 "metadata": {
  "kernelspec": {
   "display_name": "base",
   "language": "python",
   "name": "python3"
  },
  "language_info": {
   "codemirror_mode": {
    "name": "ipython",
    "version": 3
   },
   "file_extension": ".py",
   "mimetype": "text/x-python",
   "name": "python",
   "nbconvert_exporter": "python",
   "pygments_lexer": "ipython3",
   "version": "3.12.7"
  }
 },
 "nbformat": 4,
 "nbformat_minor": 2
}
