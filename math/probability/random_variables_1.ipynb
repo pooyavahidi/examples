{
 "cells": [
  {
   "cell_type": "markdown",
   "metadata": {},
   "source": [
    "# Random Variables - Problem 1\n",
    "A marksman takes 10 shots at a target and has probability 0.2 of hitting the target with each shot, independently of all other shots. Let X be the number of hits.\n",
    "1. Calculate and sketch the PMF of X.\n",
    "2. What is the probability of scoring no hits?\n",
    "3. What is the probability of scoring more hits than misses?\n",
    "4. Find the expectation and the variance of X.\n",
    "5. Suppose the marksman has to pay $3 to enter the shooting range and he gets $2 dollars for each hit. Let Y be his profit. Find the expectation and the variance of Y .\n",
    "6. Now let’s assume that the marksman enters the shooting range for free and gets the number of dollars that is equal to the square of the number of hits. Let Z be his profit. Find the expectation of Z."
   ]
  },
  {
   "cell_type": "code",
   "execution_count": 1,
   "metadata": {},
   "outputs": [],
   "source": [
    "import sys\n",
    "import matplotlib.pyplot as plt\n",
    "import numpy as np\n",
    "import pandas as pd\n",
    "import math"
   ]
  },
  {
   "cell_type": "markdown",
   "metadata": {},
   "source": [
    "1. Caclculate and sketch the PMF of X.\n",
    "\n",
    "To find probability of random variable $X$ for all the outcomes of sample space $\\Omega$ in the probabilistic model.\n",
    "\n",
    "$ p_{X}(x) = P(X=x) = P(\\{ w\\in\\Omega \\space | \\space X(w)=x\\})$\n",
    "\n",
    "$p = 0.2$ and $X$ is the number of hits. For example one of the possible outcomes could be:\n",
    "\n",
    "$ P(MMMHMHMMMH) = p^3(1-p)^7$\n",
    "\n",
    "But to find the number of ways we can carry out the above outcome we need to use counting. Since this is a uniform sample space, we can say:\n",
    "\n",
    "$ p_{X}(x) = \\binom{n}{x}p^x(1-p)^{(n-x)}$"
   ]
  },
  {
   "cell_type": "code",
   "execution_count": 2,
   "metadata": {},
   "outputs": [
    {
     "name": "stdout",
     "output_type": "stream",
     "text": [
      "   x  n-x        pX\n",
      "0  0   10  0.107374\n",
      "1  1    9  0.268435\n",
      "2  2    8  0.301990\n",
      "3  3    7  0.201327\n",
      "4  4    6  0.088080\n",
      "5  5    5  0.026424\n",
      "6  6    4  0.005505\n",
      "7  7    3  0.000786\n",
      "8  8    2  0.000074\n",
      "9  9    1  0.000004\n"
     ]
    },
    {
     "data": {
      "image/png": "[encoded data removed]",
      "text/plain": [
       "<Figure size 432x288 with 1 Axes>"
      ]
     },
     "metadata": {
      "needs_background": "light"
     },
     "output_type": "display_data"
    }
   ],
   "source": [
    "n = 10  # Number of trials\n",
    "p = 0.2  # Probability of hitting the target\n",
    "\n",
    "pmf_list = []\n",
    "# Calculate the PMF for all possible values of random variable X, when takes on\n",
    "# numbers from 0 to 10\n",
    "for x in range(n):\n",
    "    pX = math.comb(n, x) * (p**x) * ((1 - p) ** (n - x))\n",
    "    pmf_list.append([x, n - x, pX])\n",
    "\n",
    "data = pd.DataFrame(pmf_list, columns=[\"x\", \"n-x\", \"pX\"])\n",
    "print(data)\n",
    "\n",
    "plt.plot(data.x, data.pX, \"o\")\n",
    "plt.xlabel(\"number of hits\")\n",
    "plt.ylabel(\"probability\")\n",
    "plt.ylim(0, 1)\n",
    "plt.show()\n"
   ]
  },
  {
   "cell_type": "markdown",
   "metadata": {},
   "source": [
    "2. What is the probability of scoring no hits?\n",
    "\n",
    "From above calculation, we can see:\n",
    "\n",
    "$p_{X}(0) = 0.107 = 10.7\\%$"
   ]
  },
  {
   "cell_type": "markdown",
   "metadata": {},
   "source": [
    "3. What is the probability of scoring more hits than misses?\n",
    "\n",
    "We can simply add all the $p_{X}$ which $X$ takes on any value above 5.\n",
    "\n",
    "$ 5< X \\leq 10$\n",
    "\n",
    "$ P(\\text{More hits than misses}) = \\sum_{n=6}^{10}p_{X}(x)$"
   ]
  },
  {
   "cell_type": "code",
   "execution_count": 3,
   "metadata": {},
   "outputs": [
    {
     "name": "stdout",
     "output_type": "stream",
     "text": [
      "0.006369280000000004\n"
     ]
    }
   ],
   "source": [
    "pmf_more_than_5 = data[data.x > 5]\n",
    "total_prob_more_hits_than_misses = pmf_more_than_5.sum().loc[\"pX\"]\n",
    "print(total_prob_more_hits_than_misses)"
   ]
  },
  {
   "cell_type": "markdown",
   "metadata": {},
   "source": [
    "4. Find the expectation and the variance of X.\n",
    "\n",
    "Expectation of X is $E[X] = \\sum_{x}xp_{X}(x)$\n",
    "\n",
    "Variance of X is $Var(X) = E[(X-E[X])^2] = \\sum_{x}(x-E[X])^2p_{X}(x)$\n",
    "\n",
    "Standard Deviation of X is $ \\sigma = \\sqrt {Var(X)}$\n"
   ]
  },
  {
   "cell_type": "code",
   "execution_count": 4,
   "metadata": {},
   "outputs": [
    {
     "name": "stdout",
     "output_type": "stream",
     "text": [
      "Expectation of X = 1.999998976000001\n",
      "Variance of X = 1.5999934463993715\n",
      "Standard Deviation of X = 1.2649084735265914\n"
     ]
    }
   ],
   "source": [
    "e_X = np.sum(data.x * data.pX)\n",
    "var_x = np.sum(((data.x - e_X) ** 2) * data.pX)\n",
    "std_deviation = np.sqrt(var_x)\n",
    "\n",
    "print(f\"Expectation of X = {e_X}\")\n",
    "print(f\"Variance of X = {var_x}\")\n",
    "print(f\"Standard Deviation of X = {std_deviation}\")\n"
   ]
  },
  {
   "cell_type": "markdown",
   "metadata": {},
   "source": [
    "We can confirm the above value intuitively. The probability of hitting the target is 0.2, so in 10 trials the expectation of hitting the target should be a number close to 2.\n",
    "\n",
    "Also the following shows the standard deviation and how the majority of values for X are distributed."
   ]
  },
  {
   "cell_type": "code",
   "execution_count": 5,
   "metadata": {},
   "outputs": [
    {
     "data": {
      "image/png": "[encoded data removed]",
      "text/plain": [
       "<Figure size 432x288 with 1 Axes>"
      ]
     },
     "metadata": {
      "needs_background": "light"
     },
     "output_type": "display_data"
    }
   ],
   "source": [
    "plt.plot(data.x, data.pX)\n",
    "\n",
    "lower_bound_of_std_deviation = e_X - std_deviation\n",
    "# Lower side of Std Deviation\n",
    "x1 = [lower_bound_of_std_deviation, lower_bound_of_std_deviation]\n",
    "\n",
    "upper_bound_of_std_deviation = e_X + std_deviation\n",
    "x2 = [upper_bound_of_std_deviation, upper_bound_of_std_deviation]\n",
    "\n",
    "y = [0, 0.3]\n",
    "\n",
    "plt.plot(x1, y)\n",
    "plt.plot(x2, y)\n",
    "plt.show()\n"
   ]
  },
  {
   "cell_type": "markdown",
   "metadata": {},
   "source": [
    "\n",
    "5. Suppose the marksman has to pay $3 to enter the shooting range and he gets $2 dollars for each hit. Let Y be his profit. Find the expectation and the variance of Y ."
   ]
  },
  {
   "cell_type": "markdown",
   "metadata": {},
   "source": [
    "$Y$ is a function of random variable $X$, so $Y=g(x)$ is also a random variable.\n",
    "\n",
    "$Y=2X+3$\n",
    "\n",
    "$Y=g(x)=2x+3$\n",
    "\n",
    "$E[Y]=E[g(x)]=\\sum_{x}g(x)p_{X}(x)$\n"
   ]
  },
  {
   "cell_type": "code",
   "execution_count": 6,
   "metadata": {},
   "outputs": [
    {
     "name": "stdout",
     "output_type": "stream",
     "text": [
      "Expectation of Y = 0.9999982592000006\n",
      "Variance of Y = 6.399973785597329\n",
      "Standard Deviation of Y = 2.5298169470531517\n"
     ]
    }
   ],
   "source": [
    "# g(x)=2x-3\n",
    "data[\"gx\"] = data.x * 2 - 3\n",
    "\n",
    "e_Y = np.sum(data.gx * data.pX)\n",
    "var_Y = np.sum(((data.gx - e_Y) ** 2) * data.pX)\n",
    "std_deviation_Y = np.sqrt(var_Y)\n",
    "\n",
    "print(f\"Expectation of Y = {e_Y}\")\n",
    "print(f\"Variance of Y = {var_Y}\")\n",
    "print(f\"Standard Deviation of Y = {std_deviation_Y}\")\n"
   ]
  },
  {
   "cell_type": "markdown",
   "metadata": {},
   "source": [
    "We could also calculate $E[Y]$ in a simpler way. Since $Y$ is a linear function of $X$, we can say:\n",
    "\n",
    "$E[g(x)]=g(E[X])$\n",
    "\n",
    "So,\n",
    "\n",
    "$E[Y]=E[2X+3]=2E[X]-3$"
   ]
  },
  {
   "cell_type": "markdown",
   "metadata": {},
   "source": [
    "6. Now let’s assume that the marksman enters the shooting range for free and gets the number of dollars that is equal to the square of the number of hits. Let Z be his profit. Find the expectation of Z.\n",
    "\n",
    "\n",
    "$Z=X^2$ and so, $h(x)=x^2$\n",
    "\n",
    "However, since Z is not a linear function, so:\n",
    "\n",
    "$E[g(x)]\\ne g(E[X])$\n",
    "\n",
    "$E[Z]=E[X^2]=\\sum_{x}h(x) p_{X}(x)=\\sum_{x}x^2 p_{X}(x)$"
   ]
  },
  {
   "cell_type": "code",
   "execution_count": 7,
   "metadata": {},
   "outputs": [
    {
     "name": "stdout",
     "output_type": "stream",
     "text": [
      "Expectation of Z = 5.599989760000003\n"
     ]
    }
   ],
   "source": [
    "data[\"hx\"] = data.x**2\n",
    "e_Z = np.sum(data.hx * data.pX)\n",
    "\n",
    "print(f\"Expectation of Z = {e_Z}\")\n"
   ]
  }
 ],
 "metadata": {
  "kernelspec": {
   "display_name": "Python 3.8.9 ('.env': venv)",
   "language": "python",
   "name": "python3"
  },
  "language_info": {
   "codemirror_mode": {
    "name": "ipython",
    "version": 3
   },
   "file_extension": ".py",
   "mimetype": "text/x-python",
   "name": "python",
   "nbconvert_exporter": "python",
   "pygments_lexer": "ipython3",
   "version": "3.8.9"
  },
  "orig_nbformat": 4,
  "vscode": {
   "interpreter": {
    "hash": "a0c773a739e2ed95712d9260d61a24118cb33163977d6593f38371a6fc4a113e"
   }
  }
 },
 "nbformat": 4,
 "nbformat_minor": 2
}
