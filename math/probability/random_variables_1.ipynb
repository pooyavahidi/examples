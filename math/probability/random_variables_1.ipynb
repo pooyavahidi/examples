{
 "cells": [
  {
   "cell_type": "markdown",
   "metadata": {},
   "source": [
    "# Random Variables - Problem 1\n",
    "A marksman takes 10 shots at a target and has probability 0.2 of hitting the target with each shot, independently of all other shots. Let X be the number of hits.\n",
    "1. Calculate and sketch the PMF of X.\n",
    "2. What is the probability of scoring no hits?\n",
    "3. What is the probability of scoring more hits than misses?\n",
    "4. Find the expectation and the variance of X.\n",
    "5. Suppose the marksman has to pay $3 to enter the shooting range and he gets $2 dollars for each hit. Let Y be his profit. Find the expectation and the variance of Y .\n",
    "6. Now let’s assume that the marksman enters the shooting range for free and gets the number of dollars that is equal to the square of the number of hits. Let Z be his profit. Find the expectation of Z.\n",
    "\n"
   ]
  },
  {
   "cell_type": "code",
   "execution_count": 1,
   "metadata": {},
   "outputs": [
    {
     "name": "stdout",
     "output_type": "stream",
     "text": [
      "Module imported\n"
     ]
    }
   ],
   "source": [
    "import sys\n",
    "import matplotlib.pyplot as plt\n",
    "import numpy as np\n",
    "import math\n",
    "print (\"Modules imported\")"
   ]
  },
  {
   "cell_type": "code",
   "execution_count": 3,
   "metadata": {},
   "outputs": [
    {
     "name": "stdout",
     "output_type": "stream",
     "text": [
      "0 10 0 0.10737418240000006\n",
      "1 9 1 0.2684354560000001\n",
      "2 8 2 0.3019898880000002\n",
      "3 7 3 0.2013265920000001\n",
      "4 6 4 0.08808038400000005\n",
      "5 5 5 0.02642411520000001\n",
      "6 4 6 0.005505024000000003\n",
      "7 3 7 0.0007864320000000004\n",
      "8 2 8 7.372800000000005e-05\n",
      "9 1 9 4.096000000000002e-06\n",
      "0.006369280000000004\n"
     ]
    },
    {
     "data": {
      "image/png": "[encoded data removed]",
      "text/plain": [
       "<Figure size 432x288 with 1 Axes>"
      ]
     },
     "metadata": {
      "needs_background": "light"
     },
     "output_type": "display_data"
    }
   ],
   "source": [
    "# Number of trials\n",
    "n=10\n",
    "\n",
    "xpoints=[]\n",
    "ypoints=[]\n",
    "p_bigger_than_5=0\n",
    "for k in range(n):\n",
    "\tpX=math.comb(n,k)*(0.8**(n-k))*(0.2**k)\n",
    "\tprint (k, n-k, k, pX)\n",
    "\txpoints.append(k)\n",
    "\typoints.append(pX)\n",
    "\tif k > 5:\n",
    "\t\tp_bigger_than_5 += pX\n",
    "    # The data are given as list of lists (2d list)\n",
    "#\tdata = np.array([\n",
    "#        [1, 4],\n",
    "#        [2, 2],\n",
    "#        [3, 7],\n",
    "#        [4, 6],\n",
    "#        [5, 0],\n",
    "#        [6, 3]\n",
    "#    ])\n",
    "\t# Taking transpose\n",
    "#\tx, y = data.T\n",
    "    \n",
    "#xpoints = np.array([1, 0])\n",
    "#\typoints = np.array([3, 10])\n",
    "print(p_bigger_than_5)\n",
    "\n",
    "#plt.plot(xpoints, ypoints)\n",
    "plt.scatter(xpoints, ypoints)\n",
    "plt.show()"
   ]
  }
 ],
 "metadata": {
  "kernelspec": {
   "display_name": "Python 3.8.9 ('.env': venv)",
   "language": "python",
   "name": "python3"
  },
  "language_info": {
   "codemirror_mode": {
    "name": "ipython",
    "version": 3
   },
   "file_extension": ".py",
   "mimetype": "text/x-python",
   "name": "python",
   "nbconvert_exporter": "python",
   "pygments_lexer": "ipython3",
   "version": "3.8.9"
  },
  "orig_nbformat": 4,
  "vscode": {
   "interpreter": {
    "hash": "01ce304f05893aa329e117cf050993a0975aa4da4a9bf5cf11ceafff987f1956"
   }
  }
 },
 "nbformat": 4,
 "nbformat_minor": 2
}
