{
 "cells": [
  {
   "cell_type": "markdown",
   "id": "e0b8734b",
   "metadata": {},
   "source": [
    "# Training and Inference in Neural Networks\n"
   ]
  },
  {
   "cell_type": "markdown",
   "id": "54c67419",
   "metadata": {},
   "source": [
    "In this section, we'll discuss the cycle of training and inference in neural networks. We'll assume that we already have a preprocessed dataset which has passed through the\n",
    "[Exploratory Data Analysis (EDA) and Feature Engineering](ai_machine_learning_overview.md#exploratory-data-analysis-eda-and-feature-engineering) stages and our dataset is now ready for training.\n"
   ]
  },
  {
   "cell_type": "markdown",
   "id": "fe4e78e0",
   "metadata": {},
   "source": [
    "## Training\n",
    "Training a neural network is the process of optimizing the model's parameters (weights and biases) to minimize the [cost function](loss_cost_functions_machine_learning.md). The most common optimization algorithm used for training neural networks is [Gradient Descent and its Variants](gradient_descent_machine_learning.md), in particular the [mini-batch Stochastic Gradient Descent (SGD)](gradient_descent_machine_learning.md#mini-batch-sgd).\n",
    "\n",
    "Let's say we have $m=60,000$ training examples, and we decide to use mini-batch SGD with a batch size of $size=64$, then we have:\n",
    "```sh\n",
    "for each epoch:\n",
    "    batches = split dataset into random batches of 64 examples\n",
    "    for batch in batches:\n",
    "        # Run all steps for each batch of 64 examples (one iteration)\n",
    "        forward propagation # Calculate predictions\n",
    "        compute cost # Compare predictions with actual values\n",
    "        backward backpropagation # Compute the gradients\n",
    "        update all parameters # Reduce the cost\n",
    "```\n",
    "[**Epoch**](gradient_descent_machine_learning.md#epochs-and-iterations)<br>\n",
    "One complete pass through the entire training dataset.\n",
    "\n",
    "$$\\text{one epoch} = \\text{processing 60,000 training examples}$$\n",
    "\n",
    "[**Iteration**](gradient_descent_machine_learning.md#epochs-and-iterations)<br>\n",
    "One complete pass through a mini-batch of training examples. In our example:\n",
    "\n",
    "$$\\text{one iteration} = \\text{processing 64 training examples}$$\n",
    "\n",
    "$$ \\text{number of batches(iterations)} = \\frac{m}{size} = \\frac{60,000}{64} = 937.5 \\approx 938$$\n"
   ]
  },
  {
   "cell_type": "markdown",
   "id": "339d8914",
   "metadata": {},
   "source": [
    "**Repeat Until Convergence**:<br>\n",
    "The number of epochs is a hyperparameter that you can set. It defines how many times we go through the entire training dataset and update the model parameters. This cycle of training is repeated until the model converges, meaning that the cost function reaches a satisfactory level or stops reducing significantly."
   ]
  },
  {
   "cell_type": "markdown",
   "id": "9193cc9b",
   "metadata": {},
   "source": [
    "**Computational Graph**<br>\n",
    "Computation graph is break down of the neural network (forward propagation and back propagation) into smaller building blocks, which then can be calculated step by step. This graph is a directed acyclic graph (DAG), and output of each node is calculated based on the output of the previous nodes. So, it can reuse the output of the previous nodes to calculate the output of the next nodes, which makes the computation more efficient.\n",
    "\n",
    "See [Computational Graph](computational_graph_machine_learning.md) for more details.\n",
    "\n",
    "![](https://pooya.io/ai/images/nn_computational_graph.svg)\n"
   ]
  },
  {
   "cell_type": "markdown",
   "id": "951fc647",
   "metadata": {},
   "source": [
    "### Forward Propagation\n",
    "In forward propagation we calculate the predictions of the neural network based on the **current** parameters (weights and biases) and the input data.\n",
    "\n",
    "We move forward (Left to Right) from the input node to the output node.\n",
    "\n",
    "See [Forward Propagation](forward_propagation_neural_networks.md) for more details."
   ]
  },
  {
   "cell_type": "markdown",
   "id": "8190d241",
   "metadata": {},
   "source": [
    "### Compute Cost/Loss\n",
    "In [Compute cost/loss](loss_cost_functions_machine_learning.md) step, we compare the predictions with the actual values (ground truth) and calculate the cost (loss) of the predictions.\n"
   ]
  },
  {
   "cell_type": "markdown",
   "id": "57453c85",
   "metadata": {},
   "source": [
    "### Backpropagation\n",
    "In backpropagation, we calculate the gradients of the cost function with respect to the parameters (weights and biases) using the backpropagation algorithm.\n",
    "\n",
    "Backpropagation is an algorithm to calculate the [derivative (gradient)](../math/derivatives.md) of the cost function with respect to the parameters of the neural network.\n",
    "\n",
    "The name of the Backpropagation which is also called _back prop_ or _backward pass_, coming from the fact that after the [forward pass](neural_networks_inference.md) which calculates the output of the network based on the current parameters, then backprop calculates the derivative (gradient) of the cost function with respect to the parameters in the reverse order of the forward pass, meaning from the output layer back to the first layer. Hence, the name back propagation.\n",
    "\n",
    "\n",
    "\n",
    "In backpropagation, we use the computational graph and move backwards (Right to Left), from the loss node to the input node and calculate the derivative of the cost function with respect to each parameter in the neural network.\n",
    "\n",
    "\n",
    "In case of backpropagation, the computation graph is like breaking down the chain rule of the derivative into each composite function, and then calculate from the most outer function (loss function) to the most inner function (the parameters of the neural network).\n",
    "\n",
    "Without the computational graph, we have to calculate the derivative of the loss function with respect to each parameter one by one which is very inefficient. However, with the computational graph, we start from the loss function (end of the graph) and calculate the derivative of the loss function with respect to the output of each function, then keep going backward to calculate the derivative of the loss function with respect to each parameter in the neural network. In this way, we reuse the output of the previous derivatives to calculate the next derivatives, which makes the computation more efficient.\n",
    "\n",
    "See [Backpropagation Example](backpropagation_neural_networks.md) for see how it works in action.\n"
   ]
  },
  {
   "cell_type": "markdown",
   "id": "d7a506e8",
   "metadata": {},
   "source": [
    "### Update Parameters\n",
    "So far, all the calculations are based on the **current** parameters. In this step, based on the calculated gradients from the backpropagation step, we update the parameters to move in the direction of the steepest descent (negative gradient) to reduce the cost function.\n",
    "\n",
    "See [here](https://pooya.io/ai/gradient-descent-machine-learning/#4-update-the-parameters) for more details."
   ]
  },
  {
   "cell_type": "markdown",
   "id": "852e7d55",
   "metadata": {},
   "source": [
    "## Inference\n",
    "Inference is the process of making predictions using the trained neural network (optimized parameters). Inference is the same as [Forward Propagation](forward_propagation_neural_networks.md) process. That's why terms Inference, Forward Propagation, Forward Pass, and Prediction are often used interchangeably. \n",
    "\n"
   ]
  },
  {
   "cell_type": "markdown",
   "id": "b0da5614",
   "metadata": {},
   "source": [
    "## Example\n",
    "Let's look at all these steps of training and inference in a complete example. We will assume that our data is already preprocessed and is ready for training. We will show a simple but practical example using PyTorch."
   ]
  },
  {
   "cell_type": "markdown",
   "id": "cd4a595c",
   "metadata": {},
   "source": [
    "We will use the MNIST dataset, which consists of handwritten digits from 0 to 9. We will build a neural network to classify these digits. So, this is a _classification_ problem with 10 classes (digits 0 to 9). \n",
    "\n",
    "In this example, we keep the model and steps simple. For a more advanced implementation, see [this official PyTorch example](https://github.com/pytorch/examples/blob/main/mnist/main.py).\n",
    "\n"
   ]
  },
  {
   "cell_type": "markdown",
   "id": "e0ff43ad",
   "metadata": {},
   "source": [
    "### Training\n",
    "#### Data\n",
    "As always in machine learning, we start with exploring our data and [Exploratory Data Analysis (EDA)](https://pooya.io/ai/ai_machine_learning_overview/#exploratory-data-analysis-eda-and-feature-engineering)"
   ]
  },
  {
   "cell_type": "markdown",
   "id": "29f893a7",
   "metadata": {},
   "source": [
    "The MNIST dataset contains 60,000 training images and 10,000 test images. \n",
    "- Each image is 28x28 pixels, and the labels are the digits from 0 to 9.\n",
    "- The images are grayscale (one channel), so the pixel values range from 0 to 255, which is the brightness (intensity) of the pixel.\n",
    "- The dataset is split into a training set and a test set.\n",
    "\n",
    "The training data set is a matrix of 60,000 rows and 28x28x1= 784 columns. Each row represents a single image, which has 784 columns (features).\n",
    "\n",
    "$$Channel \\times Height \\times Width = 1 \\times 28 \\times 28 = 784$$\n",
    "\n"
   ]
  },
  {
   "cell_type": "markdown",
   "id": "d1cdbf20",
   "metadata": {},
   "source": [
    "\n",
    "$$X_{\\text{train}} \\in \\mathbb{R}^{60000 \\times 784}$$\n",
    "\n",
    "$$X_{\\text{train}} = \\begin{bmatrix}\n",
    "\\vec{\\mathbf{x}}^{(1)} \\\\\n",
    "\\vec{\\mathbf{x}}^{(2)} \\\\\n",
    "\\vdots \\\\\n",
    "\\vec{\\mathbf{x}}^{(60000)}\n",
    "\\end{bmatrix}$$\n",
    "\n",
    "Where:\n",
    "- $\\vec{\\mathbf{x}}^{(i)} \\in \\mathbb{R}^{784}$ is the $i$-th image in the training set.\n",
    "\n",
    "$X_{\\text{test}}$ similarly is a matrix of 10,000 rows and 784 columns.\n",
    "\n"
   ]
  },
  {
   "cell_type": "markdown",
   "id": "426209d5",
   "metadata": {},
   "source": [
    "The labels are a vector of same size (60,000) as the number of training images. Each label is an integer from 0 to 9, representing the digit in the corresponding image.\n",
    "\n",
    "$$y_{\\text{train}} \\in \\mathbb{R}^{60000}$$\n",
    "\n",
    "Similarly, $y_{\\text{test}}$ is a vector of size 10,000.\n",
    "\n",
    "$$y_{\\text{test}} \\in \\mathbb{R}^{10000}$$"
   ]
  },
  {
   "cell_type": "code",
   "execution_count": 1,
   "id": "2092cb53",
   "metadata": {},
   "outputs": [],
   "source": [
    "import torch\n",
    "from torch import nn\n",
    "from torch.nn import functional as F\n",
    "from torch.utils.data import DataLoader\n",
    "from torchvision import datasets, transforms\n",
    "from torchvision.transforms import ToTensor"
   ]
  },
  {
   "cell_type": "markdown",
   "id": "35477663",
   "metadata": {},
   "source": [
    "Let's download the MNIST dataset using `torchvision` offered by PyTorch."
   ]
  },
  {
   "cell_type": "code",
   "execution_count": 2,
   "id": "fd62e980",
   "metadata": {},
   "outputs": [],
   "source": [
    "# Define the transformation to be applied to the images\n",
    "transform = transforms.Compose([transforms.ToTensor()])\n",
    "\n",
    "# Download the MNIST training and test datasets\n",
    "train_data = datasets.MNIST(\n",
    "    root=\"data\", train=True, download=True, transform=transform\n",
    ")\n",
    "test_data = datasets.MNIST(\n",
    "    root=\"data\", train=False, download=True, transform=transform\n",
    ")"
   ]
  },
  {
   "cell_type": "code",
   "execution_count": 3,
   "id": "65c402c5",
   "metadata": {},
   "outputs": [
    {
     "name": "stdout",
     "output_type": "stream",
     "text": [
      "X_train shape: torch.Size([60000, 28, 28]), dtype: torch.uint8\n",
      "y_train shape: torch.Size([60000])\n",
      "X_test shape: torch.Size([10000, 28, 28]), dtype: torch.uint8\n",
      "y_test shape: torch.Size([10000])\n"
     ]
    }
   ],
   "source": [
    "print(\n",
    "    f\"X_train shape: {train_data.data.shape}, dtype: {train_data.data.dtype}\"\n",
    ")\n",
    "print(f\"y_train shape: {train_data.targets.shape}\")\n",
    "\n",
    "print(f\"X_test shape: {test_data.data.shape}, dtype: {test_data.data.dtype}\")\n",
    "print(f\"y_test shape: {test_data.targets.shape}\")"
   ]
  },
  {
   "cell_type": "code",
   "execution_count": 4,
   "id": "2011de6a",
   "metadata": {},
   "outputs": [
    {
     "name": "stdout",
     "output_type": "stream",
     "text": [
      "First image shape: torch.Size([28, 28])\n",
      "First image label: 5\n"
     ]
    }
   ],
   "source": [
    "print(f\"First image shape: {train_data.data[0].shape}\")\n",
    "print(f\"First image label: {train_data.targets[0]}\")"
   ]
  },
  {
   "cell_type": "markdown",
   "id": "28ca4869",
   "metadata": {},
   "source": [
    "**Labels:**\n",
    "\n",
    "In MNIST dataset, where we are classifying handwritten digits from 0 to 9, the labels are simply the digits themselves. In other words, the class 0 (label 0) corresponds to the digit 0, class 1 (label 1) corresponds to the digit 1, and so on.\n",
    "\n",
    "| Class (Label) | Value |\n",
    "|---------------|-------|\n",
    "| 0             | 0     |\n",
    "| 1             | 1     |\n",
    "| 2             | 2     |\n",
    "| 3             | 3     |\n",
    "| 4             | 4     |\n",
    "| 5             | 5     |\n",
    "| 6             | 6     |\n",
    "| 7             | 7     |\n",
    "| 8             | 8     |\n",
    "| 9             | 9     |\n",
    "\n",
    "However, in a more complex dataset, the labels are not always integers. For example, in [Fashion MNIST](https://github.com/zalandoresearch/fashion-mnist?tab=readme-ov-file#labels), the labels are strings representing the class names. The labels are as follows:\n",
    "\n",
    "| Class (Label) | Value |\n",
    "|---------------|-------|\n",
    "| 0             | T-shirt/top |\n",
    "| 1             | Trouser     |\n",
    "| 2             | Pullover    |\n",
    "| ...           | ...         |\n",
    "\n",
    "So, this is important to note that regardless of the actual value of the classes, we always map them to integers starting from 0 which in that case the logits of the output layer are automatically mapped to the corresponding index of the class. For example, $z_{0}$ will be mapped to class 0, $z_{1}$ will be mapped to class 1, and so on."
   ]
  },
  {
   "cell_type": "markdown",
   "id": "2c1e193e",
   "metadata": {},
   "source": [
    "**Batching:**\n",
    "\n",
    "As we discussed [here](https://pooya.io/ai/gradient-descent-machine-learning/#types-of-gradient-descent), one of the most commonly techniques in training a neural network is to use [mini-batch SGD (Stochastic Gradient Descent)](https://pooya.io/ai/gradient-descent-machine-learning/#mini-batch-sgd). In mini-batch SGD, we divide the training dataset into smaller chunks (batches) and go through all steps of forward and backward propagation for each batch.\n",
    "\n",
    "In PyTorch, we can do this by wrapping our dataset in a `DataLoader` object which allows us to iterate over the dataset in batches and also support for shuffling, sampling, and multi-processing. The `DataLoader` object is the one that feeds the data to the model batch by batch.\n",
    "\n",
    "We define batch size as 64. It means in each iteraction of the training (Gradient Descent) we will use 64 images to calculate the cost, and gradients and then update the parameters of the model."
   ]
  },
  {
   "cell_type": "code",
   "execution_count": 5,
   "id": "52ec2f1c",
   "metadata": {},
   "outputs": [],
   "source": [
    "batch_size = 64\n",
    "\n",
    "train_dataloader = DataLoader(train_data, batch_size=batch_size)\n",
    "test_dataloader = DataLoader(test_data, batch_size=batch_size)"
   ]
  },
  {
   "cell_type": "markdown",
   "id": "bb3628ef",
   "metadata": {},
   "source": [
    "As we saw earlier our training data is 3D matrix of size (60000, 28, 28). In other words, we have 60,000 examples which each is a 28x28 pixels image. So, overall we have a matrix of 60,000 rows which each row is a matrix of 28 rows and 28 columns.\n",
    "\n",
    "However, as soon as we wrap it in the `DataLoader` object, then it breaks down the whole dataset into batch size chunks. "
   ]
  },
  {
   "cell_type": "code",
   "execution_count": 6,
   "id": "d3935fa0",
   "metadata": {},
   "outputs": [
    {
     "name": "stdout",
     "output_type": "stream",
     "text": [
      "Shape of X [N=Batch size, C=Channel, H=Height, W=Weight]: torch.Size([64, 1, 28, 28])\n",
      "torch.Size([50176])\n",
      "torch.Size([64, 784])\n",
      "Shape of y: torch.Size([64]) torch.int64\n"
     ]
    }
   ],
   "source": [
    "for X, y in train_dataloader:\n",
    "    print(\n",
    "        f\"Shape of X [N=Batch size, C=Channel, H=Height, W=Weight]: {X.shape}\"\n",
    "    )\n",
    "    print((torch.flatten(X, start_dim=0)).shape)\n",
    "    print((torch.flatten(X, start_dim=1)).shape)\n",
    "\n",
    "    print(f\"Shape of y: {y.shape} {y.dtype}\")\n",
    "    break"
   ]
  },
  {
   "cell_type": "markdown",
   "id": "d7ac2f00",
   "metadata": {},
   "source": [
    "The shape of $X$ is (N=batch size, C=channel, H=height, W=width) which is (64, 1, 28, 28) in our case. The first dimension is the batch size, the second dimension is the channel (1 for grayscale). This channel dimension arrangement comes from the `transforms.ToTensor()` which we added during data loading. While PIL (Python Imaging Library) typically represents images with channels as the last dimension (height, width, channels) or without explicit channels for grayscale, PyTorch's convention is to have channels first (NCHW format). The `ToTensor()` transform handles this conversion, moving from PIL's format to PyTorch's expected tensor format of (channels, height, width), and then the DataLoader adds the batch dimension."
   ]
  },
  {
   "cell_type": "markdown",
   "id": "192418c2",
   "metadata": {},
   "source": [
    "**Flattening**:<br>\n",
    "In this example, for simplicity we are going to use a fully connected (Dense) layers as the input layer, which expects an input $X$ of 2D matrix with shape of  $(m \\times n)$ where $m$ is the number of examples (batch size) and $n$ is the number of features (784 in our case). So, we need to flatten the input dataset to be a 2D matrix of size (rows = batch size, columns = features of each image).\n",
    "\n",
    "> Dense layers expect a 2‑D input of shape $(\\text{batch\\_size},\\ \\text{num\\_features})$, so images must be flattened to vectors first. But other layers such as convolutional layers, may not need this flattening.\n",
    "\n",
    "\n",
    "- **Dense (fully‑connected) layer** – Every sample must come in as one long row‑vector of features, so for a batch you need a 2‑D array of shape: \n",
    "    $$(m,\\; n)= (\\text{batch\\_size},\\; \\text{features})$$ \n",
    "    For an MNIST image that’s $28\\times28=784$ features.\n",
    "\n",
    "- **Convolutional layer** – Convolutional layers comes in different shapes (e.g. `Conv1d`, `Conv2d`, etc). A 2‑D convolution over images expects **four** axes $(N,\\;C,\\;H,\\;W)$.\n",
    "\n",
    "So, we use PyTorch [flatten](https://pytorch.org/docs/stable/generated/torch.flatten.html) function to flatten the input dataset. We use `torch.flatten()` with `start_dim=1` to flatten the input starting from the second dimension onwards. This means we want to keep the first dimension (batch size) as is, and flatten the rest of the dimensions (channel, height, width) into a single dimension, $1 \\times 28 \\times 28 = 784$. So, the result will be a 2D tensor of size $(64, 784)$.\n"
   ]
  },
  {
   "cell_type": "markdown",
   "id": "b1de1dff",
   "metadata": {},
   "source": [
    "#### Creating the Model"
   ]
  },
  {
   "cell_type": "markdown",
   "id": "82068b60",
   "metadata": {},
   "source": [
    "In this example we create a very simple model using 3 fully connected layers (also called linear layers, or Dense layers). \n",
    "\n",
    "**Layer 1 (Dense):**\n",
    "- $28 \\times 28 \\times 1 = 784$ inputs, $512$ outputs\n",
    "- Activation function: ReLU\n",
    "- In this layer we have $512$ neurons. the shape of matrix $W1$ is (512, 784) and the shape of vector $b1$ is (512,)\n",
    "\n",
    "**Layer 2 (Dense):**\n",
    "- $512$ inputs, $512$ outputs.\n",
    "- Activation function: ReLU\n",
    "- In this layer we have $512$ neurons. the shape of matrix $W2$ is (512, 512) and the shape of vector $b2$ is (512,)\n",
    "\n",
    "**Layer 3 (Dense):**\n",
    "- $512$ inputs, $10$ outputs (one for each class)\n",
    "- Activation function: None (linear Activation)\n",
    "- In this layer we have $10$ neurons. the shape of matrix $W3$ is (10, 512) and the shape of vector $b3$ is (10,)\n",
    "\n",
    "**Placement of Activation Function for the Output Layer:**<br>\n",
    "\n",
    "As we discussed [here](), the output layer's activation function is applied separately to the logits of the output layer. In here, we have a multi-class classification problem, so we will use the softmax activation function. \n",
    "\n"
   ]
  },
  {
   "cell_type": "code",
   "execution_count": 7,
   "id": "c1430f1f",
   "metadata": {},
   "outputs": [],
   "source": [
    "# Define the neural network\n",
    "class NeuralNetwork(nn.Module):\n",
    "    def __init__(self):\n",
    "        super(NeuralNetwork, self).__init__()\n",
    "        self.linear1 = nn.Linear(in_features=28 * 28, out_features=512)\n",
    "        self.linear2 = nn.Linear(in_features=512, out_features=512)\n",
    "        self.linear3 = nn.Linear(in_features=512, out_features=10)\n",
    "\n",
    "    def forward(self, x):\n",
    "        # Flatten the input tensor\n",
    "        x = torch.flatten(x, start_dim=1)\n",
    "\n",
    "        # Layer 1\n",
    "        z1 = self.linear1(x)\n",
    "        a1 = F.relu(z1)\n",
    "\n",
    "        # Layer 2\n",
    "        z2 = self.linear2(a1)\n",
    "        a2 = F.relu(z2)\n",
    "\n",
    "        # Layer 3\n",
    "        # z3 are the logits\n",
    "        logits = self.linear3(a2)\n",
    "        return logits"
   ]
  },
  {
   "cell_type": "markdown",
   "id": "45823ac4",
   "metadata": {},
   "source": [
    "Before we initialize the model, we want to find out if on the current machine (which we about to execute the computations of our model) we have a GPU or not. If we have GPU, we almost always prefer to use it over CPU for training and inference computations.\n"
   ]
  },
  {
   "cell_type": "code",
   "execution_count": 8,
   "id": "22351281",
   "metadata": {},
   "outputs": [
    {
     "name": "stdout",
     "output_type": "stream",
     "text": [
      "Using cpu device\n"
     ]
    }
   ],
   "source": [
    "# pick accelerator device (GPU, MPS, etc) if available, otherwise CPU.\n",
    "if torch.accelerator.is_available():\n",
    "    device = torch.accelerator.current_accelerator()\n",
    "else:\n",
    "    device = torch.device(\"cpu\")\n",
    "\n",
    "print(f\"Using {device} device\")"
   ]
  },
  {
   "cell_type": "markdown",
   "id": "138bc75d",
   "metadata": {},
   "source": [
    "Now let's initialize our model. If we don't have GPU, or if we didn't call `.to(device)` on the model, then it falls back to CPU.\n"
   ]
  },
  {
   "cell_type": "code",
   "execution_count": 9,
   "id": "25d86a4d",
   "metadata": {},
   "outputs": [
    {
     "name": "stdout",
     "output_type": "stream",
     "text": [
      "linear1:\n",
      "\tLayer type: Linear(in_features=784, out_features=512, bias=True)\n",
      "\tOutput shape (number of neurons): 512\n",
      "\tWeights shape: torch.Size([512, 784])\n",
      "\tBias shape: torch.Size([512])\n",
      "\tTotal parameters: 401920\n",
      "linear2:\n",
      "\tLayer type: Linear(in_features=512, out_features=512, bias=True)\n",
      "\tOutput shape (number of neurons): 512\n",
      "\tWeights shape: torch.Size([512, 512])\n",
      "\tBias shape: torch.Size([512])\n",
      "\tTotal parameters: 262656\n",
      "linear3:\n",
      "\tLayer type: Linear(in_features=512, out_features=10, bias=True)\n",
      "\tOutput shape (number of neurons): 10\n",
      "\tWeights shape: torch.Size([10, 512])\n",
      "\tBias shape: torch.Size([10])\n",
      "\tTotal parameters: 5130\n",
      "Model Total parameters: 669706\n"
     ]
    }
   ],
   "source": [
    "# Initialize the model\n",
    "model = NeuralNetwork().to(device)\n",
    "\n",
    "\n",
    "def print_model_summary(layer):\n",
    "    for name, layer in model.named_children():\n",
    "        print(f\"{name}:\")\n",
    "        print(f\"\\tLayer type: {layer}\")\n",
    "        print(f\"\\tOutput shape (number of neurons): {layer.out_features}\")\n",
    "        print(f\"\\tWeights shape: {layer.weight.shape}\")\n",
    "        print(f\"\\tBias shape: {layer.bias.shape}\")\n",
    "        print(\n",
    "            f\"\\tTotal parameters: {layer.weight.numel() + layer.bias.numel()}\"\n",
    "        )\n",
    "    print(\n",
    "        f\"Model Total parameters: {sum(p.numel() for p in model.parameters())}\"\n",
    "    )\n",
    "\n",
    "\n",
    "print_model_summary(model)"
   ]
  },
  {
   "cell_type": "markdown",
   "id": "6c6fa11f",
   "metadata": {},
   "source": [
    "The model and number of parameters are as expected. For example:\n",
    "\n",
    "For Layer 1:\n",
    "- Weights: $512 \\times 784 = 401408$\n",
    "- Biases: $512$\n",
    "- Total Parameters: $401408 + 512 = 401920$ \n",
    "\n",
    "And so on for the other layers."
   ]
  },
  {
   "cell_type": "markdown",
   "id": "107b078c",
   "metadata": {},
   "source": [
    "**Softmax Placement:**<br>\n",
    "As we discussed earlier, for numerical stability, the output layer of our model should be a _linear_ layer (no activation function) which means the output of the last layer is the logits $z$. Then we place our softmax functions outside of the model and use it depending on if we are in _training_ or _inference_ mode.\n",
    "- At the time of **inference**, we apply the softmax activation function (or simply argmax) to the logits to get the highest probability class.\n",
    "- At the time of **training**, we pass the logits to the Cross-Entropy Loss function directly. See [here](https://pooya.io/ai/loss-cost-functions-machine-learning/#sparse-categorical-cross-entropy-loss) for more details.\n",
    "\n",
    "> Note: Since the model's output is logits, the output of the model is **not** probabilities. To get probabilities, we need to apply the softmax function to the logits. "
   ]
  },
  {
   "cell_type": "markdown",
   "id": "c5bc8344",
   "metadata": {},
   "source": [
    "#### Training the Model"
   ]
  },
  {
   "cell_type": "markdown",
   "id": "3fb1c62a",
   "metadata": {},
   "source": [
    "**Define Model Optimization Algorithm**\n",
    "\n",
    "We will use the [mini-batch SGD (Stochastic Gradient Descent)](https://pooya.io/ai/gradient-descent-machine-learning/) optimizer with learning rate of `0.001`. \n"
   ]
  },
  {
   "cell_type": "code",
   "execution_count": 10,
   "id": "48b7ab64",
   "metadata": {},
   "outputs": [],
   "source": [
    "# Stochastic Gradient Descent (SGD) optimizer\n",
    "optimizer = torch.optim.SGD(model.parameters(), lr=1e-3)"
   ]
  },
  {
   "cell_type": "markdown",
   "id": "091451c3",
   "metadata": {},
   "source": [
    "**Loading Training Data to the Device:**<br>\n",
    "In previous steps, we checked if we have any hardware accelerators (GPU, MPS, etc) available or not. We almost always perfer using hardware accelerators such as (GPU, MPS, etc) for machine learning computations over CPU if available. \n",
    "\n",
    "Then in PyTorch, we can use the `.to(device)` method on the model to move the model's parameters to that device and run the model's computations on the same device. Now, we also want to move the training data to the same device as well.\n",
    "\n",
    "When we say, _move the data to the device_, we mean we want the data be on the hardware memory which is local to the choosen processor (device). For example, if we are using a GPU, we want the data to be in the GPU's memory (onboard RAM) instead of the CPU's memory (main RAM).\n",
    "\n",
    "1. **CPU tensors**  \n",
    "   - Live in the system’s main RAM.  \n",
    "   - All arithmetic on them is done by the CPU cores.\n",
    "\n",
    "2. **GPU tensors**  \n",
    "   - Live in the GPU’s dedicated onboard RAM (VRAM) which is physically separate from the CPU’s RAM. \n",
    "   - All arithmetic on them is done by the GPU’s streaming multiprocessors.\n",
    "\n",
    "\n",
    "Note that if we don't move the data to the local memory of the device, and model and model's parameters are on the GPU, and the training data is on the CPU, then moving data between CPU and GPU involves transferring data over the PCI-Express bus, which is relatively slow compared to accessing memory local to each processor"
   ]
  },
  {
   "cell_type": "code",
   "execution_count": 11,
   "id": "b156b814",
   "metadata": {},
   "outputs": [],
   "source": [
    "def train(model, device, train_loader, optimizer, dry_run=False):\n",
    "    # Set the model to the training mode\n",
    "    model.train()\n",
    "\n",
    "    # Go through the training data, batch by batch\n",
    "    for batch_idx, (X, y) in enumerate(train_loader):\n",
    "\n",
    "        # Move the training batch to the device where the model is.\n",
    "        X, y = X.to(device), y.to(device)\n",
    "\n",
    "        # Reset any previous calculated gradients to zero\n",
    "        optimizer.zero_grad()\n",
    "\n",
    "        # Forward propagation (inference)\n",
    "        logits = model(X)\n",
    "\n",
    "        # Calculate the cost\n",
    "        loss = F.cross_entropy(logits, y)\n",
    "\n",
    "        # Backpropagation (calculate gradient)\n",
    "        loss.backward()\n",
    "\n",
    "        # Update all model's parameters (using the calculated gradients)\n",
    "        optimizer.step()\n",
    "\n",
    "        # Print the progress log every 100 batches\n",
    "        if batch_idx % 100 == 0:\n",
    "            batch = batch_idx + 1 if batch_idx == 0 else batch_idx\n",
    "            processed = batch * len(X)\n",
    "            size = len(train_loader.dataset)\n",
    "            progress = 100.0 * batch / len(train_loader)\n",
    "\n",
    "            print(\n",
    "                f\"[Batch:{batch:>5d}/{len(train_loader)} \"\n",
    "                f\"Processed: {processed:>5d}/{size} \"\n",
    "                f\"({progress:.0f}%)]\"\n",
    "                f\"\\tLoss: {loss.item():.6f}\"\n",
    "            )\n",
    "            if dry_run:\n",
    "                break"
   ]
  },
  {
   "cell_type": "markdown",
   "id": "66ef0c07",
   "metadata": {},
   "source": [
    "Let's explain some of the details of the `train()` function:\n",
    "\n",
    "`traing()` has 4 input parameters:\n",
    "- `dataloader`: To feed the training data to the model in batches.\n",
    "- `model`: Our neural network model which are going to train.\n",
    "- `optimizer`: The optimization algorithm (i.e variation of SGD).\n",
    "- `dry_run`: A boolean flag to indicate if we are in dry run mode or not. This is specially useful for debugging and troubleshooting when we want to test the training loop without actually going through all whole training data.\n",
    "\n"
   ]
  },
  {
   "cell_type": "markdown",
   "id": "46cde835",
   "metadata": {},
   "source": [
    "```python\n",
    "model.train()\n",
    "```\n",
    "This line sets the model to training mode. This is important because some layers (like dropout and batch normalization) behave differently during training and inference. For example, in training mode, dropout layers will randomly drop some neurons, while in inference mode, they will use all neurons.\n"
   ]
  },
  {
   "cell_type": "markdown",
   "id": "e90ff203",
   "metadata": {},
   "source": [
    "**Iteration:**<br>\n",
    "We now iterate over the training data using the `dataloader` object batch by batch. \n",
    "\n",
    "```python\n",
    "for batch_idx, (X, y) in enumerate(train_loader):\n",
    "    ...\n",
    "```\n",
    "\n",
    "Each round of the loop, is the **complete** process of training (forward and backward propagation, and parameters update) for a **single batch** from the training data. This is called **one iteration**. See [here](https://pooya.io/ai/gradient-descent-machine-learning/#gradient-descent-summary) for more details. \n",
    "\n",
    "In here, we only need `X` and `y` which are in the size of (64, 784) and (64,) respectively. We also get the `batch_idx` which is the index of the current batch for printing the progress of the training.\n",
    "\n",
    "> Note: All the steps of forward propagation, loss calculation, backward propagation, and parameters update are done **only** for the current batch of data (which is this example is 64 sample images)\n"
   ]
  },
  {
   "cell_type": "markdown",
   "id": "8dbdd293",
   "metadata": {},
   "source": [
    "**Loss Function:**<br>\n",
    "In PyTorch, the word **loss** is often used to refer to the **cost** function. Although [Loss and Cost functions](https://pooya.io/ai/loss-cost-functions-machine-learning/) are not the same, in PyTorch term **loss** is used to refer to both.\n",
    "\n",
    "We will use [Cross-Entropy Loss](https://pooya.io/ai/loss-cost-functions-machine-learning/#cross-entropy-loss) function as we are dealing with a multi-class classification problem.\n",
    "\n",
    "```py\n",
    "loss = F.cross_entropy(logits, y) \n",
    "```\n",
    "[`cross_entropy()`](https://pytorch.org/docs/stable/generated/torch.nn.CrossEntropyLoss.html) in combines the softmax activation function and the negative log-likelihood loss function in one single function. It expects the logits as input and applies the softmax function internally. "
   ]
  },
  {
   "cell_type": "markdown",
   "id": "3997744c",
   "metadata": {},
   "source": [
    "Let's run the training for a few epochs and see the results.\n"
   ]
  },
  {
   "cell_type": "code",
   "execution_count": 12,
   "id": "1f532002",
   "metadata": {},
   "outputs": [
    {
     "name": "stdout",
     "output_type": "stream",
     "text": [
      "Epoch 1/3\n",
      "-------------------------------\n",
      "[Batch:    1/938 Processed:    64/60000 (0%)]\tLoss: 2.303745\n",
      "[Batch:  100/938 Processed:  6400/60000 (11%)]\tLoss: 2.298823\n",
      "[Batch:  200/938 Processed: 12800/60000 (21%)]\tLoss: 2.300962\n",
      "[Batch:  300/938 Processed: 19200/60000 (32%)]\tLoss: 2.277889\n",
      "[Batch:  400/938 Processed: 25600/60000 (43%)]\tLoss: 2.285777\n",
      "[Batch:  500/938 Processed: 32000/60000 (53%)]\tLoss: 2.286932\n",
      "[Batch:  600/938 Processed: 38400/60000 (64%)]\tLoss: 2.279493\n",
      "[Batch:  700/938 Processed: 44800/60000 (75%)]\tLoss: 2.274683\n",
      "[Batch:  800/938 Processed: 51200/60000 (85%)]\tLoss: 2.266902\n",
      "[Batch:  900/938 Processed: 57600/60000 (96%)]\tLoss: 2.260534\n",
      "\n",
      "Epoch 2/3\n",
      "-------------------------------\n",
      "[Batch:    1/938 Processed:    64/60000 (0%)]\tLoss: 2.258941\n",
      "[Batch:  100/938 Processed:  6400/60000 (11%)]\tLoss: 2.250776\n",
      "[Batch:  200/938 Processed: 12800/60000 (21%)]\tLoss: 2.261983\n",
      "[Batch:  300/938 Processed: 19200/60000 (32%)]\tLoss: 2.223863\n",
      "[Batch:  400/938 Processed: 25600/60000 (43%)]\tLoss: 2.239783\n",
      "[Batch:  500/938 Processed: 32000/60000 (53%)]\tLoss: 2.239365\n",
      "[Batch:  600/938 Processed: 38400/60000 (64%)]\tLoss: 2.221487\n",
      "[Batch:  700/938 Processed: 44800/60000 (75%)]\tLoss: 2.231184\n",
      "[Batch:  800/938 Processed: 51200/60000 (85%)]\tLoss: 2.209245\n",
      "[Batch:  900/938 Processed: 57600/60000 (96%)]\tLoss: 2.198760\n",
      "\n",
      "Epoch 3/3\n",
      "-------------------------------\n",
      "[Batch:    1/938 Processed:    64/60000 (0%)]\tLoss: 2.195798\n",
      "[Batch:  100/938 Processed:  6400/60000 (11%)]\tLoss: 2.180521\n",
      "[Batch:  200/938 Processed: 12800/60000 (21%)]\tLoss: 2.205530\n",
      "[Batch:  300/938 Processed: 19200/60000 (32%)]\tLoss: 2.140531\n",
      "[Batch:  400/938 Processed: 25600/60000 (43%)]\tLoss: 2.168901\n",
      "[Batch:  500/938 Processed: 32000/60000 (53%)]\tLoss: 2.162959\n",
      "[Batch:  600/938 Processed: 38400/60000 (64%)]\tLoss: 2.126863\n",
      "[Batch:  700/938 Processed: 44800/60000 (75%)]\tLoss: 2.154950\n",
      "[Batch:  800/938 Processed: 51200/60000 (85%)]\tLoss: 2.111911\n",
      "[Batch:  900/938 Processed: 57600/60000 (96%)]\tLoss: 2.093282\n",
      "\n"
     ]
    }
   ],
   "source": [
    "epochs = 3\n",
    "for t in range(epochs):\n",
    "    print(f\"Epoch {t + 1}/{epochs}\\n-------------------------------\")\n",
    "    train(model, device, train_dataloader, optimizer)\n",
    "    print()"
   ]
  },
  {
   "cell_type": "markdown",
   "id": "6cfdbc3c",
   "metadata": {},
   "source": [
    "The following above output clearly shows how **Iteration** and **Epochs** are different from each other.\n",
    "- **Iteration**: One complete cycle of training (forward and backward propagation, and parameters update) for a _single batch_ of data.\n",
    "- **Epoch**: One complete cycle of training (forward and backward propagation, and parameters update) for _all batches_ (entire training dataset).\n",
    "\n",
    "As you can see in each iteration, we process **one batch** of data (64 images in this example). The process includes **all** the training steps (forward, cost, backward, and update), but **only** for that **one batch** of data.\n",
    "\n",
    "When we go through all the batches, we have processed the entire training dataset. This is called **one epoch**. \n",
    "\n",
    "In below, we have 60,000 training images, and batch size of 64.\n",
    "\n",
    "$$\\text{Number of Batches} = \\frac{\\text{Number of Training Images}}{\\text{Batch Size}} = \\frac{60000}{64} = 937.5 \\approx 938\n",
    "$$\n",
    "\n",
    "```\n",
    "Epoch 1/3\n",
    "-------------------------------\n",
    "[Batch:    1/938 Processed:    64/60000 (0%)]\tLoss: 2.305700\n",
    "[Batch:  100/938 Processed:  6400/60000 (11%)]\tLoss: 2.299334\n",
    "...\n",
    "[Batch:  900/938 Processed: 57600/60000 (96%)]\tLoss: 2.252129\n",
    "```\n",
    "\n",
    "For brevity, we only print the progress of the training every 100 iterations (batches). For example, the second row shows that so far, we have processed 100 batches (each batch is 64 images) which means we have processed $100 \\times 64 = 6400$ images, and the loss after processing these 100 batches is 2.299334.\n"
   ]
  },
  {
   "cell_type": "markdown",
   "id": "755540c5",
   "metadata": {},
   "source": [
    "#### Evaluation of the Model\n",
    "[Evaluation](https://pooya.io/ai/model-evaluation-machine-learning/) is the key step in the training cycle of a machine learning models. Evaluation helps us to understand and how well our model is in [generalization](https://pooya.io/ai/generalization-machine-learning/) which is the ability of the model to perform well on unseen data. In other words, we want to see how well our model is able to generalize to new data that it has not seen before and how to improve it if needed.\n",
    "\n",
    "One of the steps in evaluation is to [split the dataset into training and test datasets](https://pooya.io/ai/model-evaluation-machine-learning/). In this example, we are using MNIST dataset which comes with split of training and test datasets. $60,000$ training images and $10,000$ test images.\n"
   ]
  },
  {
   "cell_type": "code",
   "execution_count": 13,
   "id": "22175ffa",
   "metadata": {},
   "outputs": [
    {
     "name": "stdout",
     "output_type": "stream",
     "text": [
      "X_test shape: torch.Size([10000, 28, 28]), dtype: torch.uint8\n",
      "y_test shape: torch.Size([10000])\n",
      "10000\n"
     ]
    }
   ],
   "source": [
    "print(f\"X_test shape: {test_data.data.shape}, dtype: {test_data.data.dtype}\")\n",
    "print(f\"y_test shape: {test_data.targets.shape}\")\n",
    "print(len(test_dataloader.dataset))"
   ]
  },
  {
   "cell_type": "code",
   "execution_count": 14,
   "id": "28a22708",
   "metadata": {},
   "outputs": [],
   "source": [
    "def test(model, device, test_loader):\n",
    "    # Set the model to the evaluation mode\n",
    "    model.eval()\n",
    "\n",
    "    # Initialize the test loss and correct predictions\n",
    "    test_loss = 0\n",
    "    correct = 0\n",
    "\n",
    "    # We don't need to calculate gradients for the test data, so we use\n",
    "    # torch.no_grad() to save memory and computations\n",
    "    with torch.no_grad():\n",
    "\n",
    "        # Go through the test data, batch by batch\n",
    "        for X, y in test_loader:\n",
    "\n",
    "            # Move the test batch to the device where the model is.\n",
    "            X, y = X.to(device), y.to(device)\n",
    "\n",
    "            # Forward propagation (inference)\n",
    "            logits = model(X)\n",
    "\n",
    "            # Calculate the cost for each batch and sum it up\n",
    "            test_loss += F.cross_entropy(logits, y, reduction=\"sum\").item()\n",
    "\n",
    "            # Get the predicted class\n",
    "            pred = logits.argmax(dim=1, keepdim=True)\n",
    "\n",
    "            # Count the number of correct predictions\n",
    "            correct += pred.eq(y.view_as(pred)).sum().item()\n",
    "\n",
    "    # Calculate the average loss across all batches\n",
    "    test_loss /= len(test_loader.dataset)\n",
    "\n",
    "    # Print the test results\n",
    "    print(\n",
    "        f\"Test Result:\\n Average loss: {test_loss:.4f}, \"\n",
    "        f\"Accuracy: {correct}/{len(test_loader.dataset)} \"\n",
    "        f\"({100.0 * correct / len(test_loader.dataset):.0f}%)\"\n",
    "    )"
   ]
  },
  {
   "cell_type": "markdown",
   "id": "22a45e74",
   "metadata": {},
   "source": [
    "Let's decompose the `test()` function and execute it line by line.\n",
    "\n",
    "\n",
    "The function `test()` has input parameters:\n",
    "- `model`: Our model which has been trained and we want to evaluate.\n",
    "- `device`: The device (e.g. GPU, CPU, etc) on which the model is running.\n",
    "- `test_loader`: The test dataloader which feed the **test** dataset to the model in batches."
   ]
  },
  {
   "cell_type": "markdown",
   "id": "c66a5220",
   "metadata": {},
   "source": [
    "We first set the model to evaluation mode, and initialize our counters."
   ]
  },
  {
   "cell_type": "code",
   "execution_count": 15,
   "id": "ec2bda16",
   "metadata": {},
   "outputs": [],
   "source": [
    "model.eval()\n",
    "\n",
    "# Initialize the test loss and correct predictions\n",
    "test_loss = 0\n",
    "correct = 0"
   ]
  },
  {
   "cell_type": "markdown",
   "id": "c735c1f0",
   "metadata": {},
   "source": [
    "\n",
    "This line sets the model to evaluation mode. This is important because some layers (like dropout and batch normalization) behave differently during training and inference. \n",
    "\n",
    "Note: even though the name of this function is `eval()`, it will be used for both evaluation and inference. In PyTorch, the `eval()` function simply sets the model for final inference mode.\n"
   ]
  },
  {
   "cell_type": "markdown",
   "id": "2862d165",
   "metadata": {},
   "source": [
    "```python\n",
    "torch.no_grad()\n",
    "```\n",
    "As we discussed in the [Computational Graph](https://pooya.io/ai/computational-graph-machine-learning/) and `autograd`, PyTorch regardless of the mode (training or inference) creates a computational graph, stores the intermediate activations for backpropagation, and keeps track of the gradients. During the training, we want this behavior as we need to calculate the gradients for the backpropagation, right after the forward pass. But during pure inference, we don't need to build the computational graph and store any values. So, we use `torch.no_grad()` tells PyTorch to skip building the computational graph, which saves memory and speeds up the computation.\n",
    "\n",
    "> In line-by-line execution for learning purposes, we can omit this line for now, but in practice, we should always use it during inference to save memory and speed up the computation."
   ]
  },
  {
   "cell_type": "code",
   "execution_count": 16,
   "id": "21ac3542",
   "metadata": {},
   "outputs": [
    {
     "name": "stdout",
     "output_type": "stream",
     "text": [
      "X shape: torch.Size([64, 1, 28, 28]), y shape: torch.Size([64])\n"
     ]
    }
   ],
   "source": [
    "# Grab our first batch of test data\n",
    "X, y = next(iter(test_dataloader))\n",
    "print(f\"X shape: {X.shape}, y shape: {y.shape}\")"
   ]
  },
  {
   "cell_type": "code",
   "execution_count": 17,
   "id": "71e3e2af",
   "metadata": {},
   "outputs": [
    {
     "name": "stdout",
     "output_type": "stream",
     "text": [
      "Logits shape: torch.Size([64, 10])\n",
      "First 2 logits:\n",
      "tensor([[-0.0442, -0.0884, -0.0270, -0.0364, -0.0347, -0.1009, -0.1359,  0.2878,\n",
      "          0.0304,  0.1313],\n",
      "        [ 0.2418, -0.1018,  0.1556,  0.0864, -0.1910,  0.0196,  0.0774, -0.2082,\n",
      "          0.0541, -0.1250]], grad_fn=<SliceBackward0>)\n"
     ]
    }
   ],
   "source": [
    "# Move the test batch to the device where the model is.\n",
    "X, y = X.to(device), y.to(device)\n",
    "\n",
    "# Forward propagation (inference)\n",
    "logits = model(X)\n",
    "print(f\"Logits shape: {logits.shape}\")\n",
    "print(f\"First 2 logits:\\n{logits[0:2]}\")"
   ]
  },
  {
   "cell_type": "code",
   "execution_count": 18,
   "id": "ff9e1a1f",
   "metadata": {},
   "outputs": [
    {
     "name": "stdout",
     "output_type": "stream",
     "text": [
      "Sum of batch loss: 135.4241\n"
     ]
    }
   ],
   "source": [
    "batch_loss_sum = F.cross_entropy(logits, y, reduction=\"sum\").item()\n",
    "print(f\"Sum of batch loss: {batch_loss_sum:.4f}\")\n",
    "\n",
    "test_loss += batch_loss_sum"
   ]
  },
  {
   "cell_type": "markdown",
   "id": "9ba654dc",
   "metadata": {},
   "source": [
    "This above calculates the losses for the entire batch and **adds** them up together in `test_loss` variable. We broke it down for better understanding.\n",
    "\n",
    "Previously we used `F.cross_entropy(logits, y)` in training which returns the **average** loss for the batch. The default value for `reduction=\"mean\"` which calculates the average loss for the batch.\n",
    "\n",
    "$$J = \\frac{1}{m} \\sum_{i=1}^{m} L(y^{(i)}, \\hat{y}^{(i)})$$\n",
    "\n",
    "Where:\n",
    "- $m$ is the number of examples in the batch (64 in this example).\n",
    "\n",
    "However, since the last batch is usually smaller than other batches, the easiest way to calculate the average of losses across the entire test dataset, is to simply add all losses together and then divide the total by the number of examples in the test dataset.\n",
    "\n",
    "```python\n",
    "test_loss /= len(test_loader.dataset)\n",
    "```\n",
    "\n",
    "Note: During the training the `loss` is the final node of the computational graph, which we want walk backwards and calculate the gradients (backpropagation) from. But during the inference, we don't need to do that or keeping the graph. So, the `item()` function is simply get the value of the loss tensor (which is a matrix of size 1x1) and convert it to a Python float. \n",
    "\n",
    "\n",
    "\n"
   ]
  },
  {
   "cell_type": "code",
   "execution_count": 19,
   "id": "9a3558c5",
   "metadata": {},
   "outputs": [
    {
     "name": "stdout",
     "output_type": "stream",
     "text": [
      "pred shape: torch.Size([64, 1])\n",
      "First 2 predictions:\n",
      "tensor([[7],\n",
      "        [0]])\n"
     ]
    }
   ],
   "source": [
    "pred = logits.argmax(dim=1, keepdim=True)\n",
    "\n",
    "print(f\"pred shape: {pred.shape}\")\n",
    "print(f\"First 2 predictions:\\n{pred[0:2]}\")"
   ]
  },
  {
   "cell_type": "markdown",
   "id": "135129c3",
   "metadata": {},
   "source": [
    "`pred` is the index of **most probable class** for each sample in the batch. We have 64 samples in the batch, so `pred` is a vector of size (64,1), one predicted class for each sample. \n",
    "\n",
    "As we discussed in [Forward Propagation](https://pooya.io/ai/forward-propagation-neural-networks/), the output of the modelis the logits (not the probabilities). This is a matrix of size (batch size, number of classes). In this example, the logits are a matrix of size (64, 10) which means we have 64 samples and 10 classes.\n",
    "\n",
    "$$\\text{logits} = Z^{(3)} = \\begin{bmatrix}\n",
    "z_{1}^{(1)} & z_{2}^{(1)} & \\cdots & z_{10}^{(1)} \\\\\n",
    "z_{1}^{(2)} & z_{2}^{(2)} & \\cdots & z_{10}^{(2)} \\\\\n",
    "\\vdots & \\vdots & \\ddots & \\vdots \\\\\n",
    "z_{1}^{(64)} & z_{2}^{(64)} & \\cdots & z_{10}^{(64)}\n",
    "\\end{bmatrix}$$\n",
    "\n",
    "Where:\n",
    "- $z_{i}^{(j)}$ is the $i$-th logit for the $j$-th sample. So, the first row is the logits for the first sample.\n",
    "- Each logit is a real number which is the output of linear transformation of the last layer.\n",
    "\n",
    "In order to get the probabilities, we need to apply the softmax function to the logits. \n",
    "\n",
    "$$\\text{probabilities} = A^{(3)} = \\text{softmax}(Z^{(3)})$$\n",
    "\n",
    "As we discussed [here](https://pooya.io/ai/classification-neural-networks/), softmax for logits is defined as:\n",
    "\n",
    "$$\\text{softmax}(z_{i}) = \\frac{e^{z_{i}}}{\\sum_{j=1}^{N} e^{z_{j}}}$$\n",
    "\n",
    "Where:\n",
    "- $z_{i}$ is the $i$-th logit.\n",
    "- $N=10$ is the number of classes (digits 0 to 9).\n",
    "\n"
   ]
  },
  {
   "cell_type": "markdown",
   "id": "0d9aa4a6",
   "metadata": {},
   "source": [
    "If we look into how the softmax function works, we can see that if our ultimate goal is not getting the probabilities, but finding the **most likely class** (the predicted class), we can simply pick the largest output from the logits. In that case, the softmax is not required and we can use a simpler operation called `argmax` which simply returns the index of the largest value in the given vector.\n",
    "\n",
    "Since the logits are a matrix of size (64, 10), we want to apply the `argmax` function on each row (10 logits of each sample) to get the index of largest value (most likely class) for that row. So, we set `dim=1` to apply the `argmax` function on the second dimension (columns) of the logits matrix. The result will be a vector of size (64,). In order to keep the result in the same shape as the logits, we set `keepdim=True` which then returns a matrix of size (64, 1)."
   ]
  },
  {
   "cell_type": "markdown",
   "id": "04a5197b",
   "metadata": {},
   "source": [
    "**Compare the Predicted Classes with the Target Labels:**<br>\n"
   ]
  },
  {
   "cell_type": "code",
   "execution_count": 20,
   "id": "426eed17",
   "metadata": {},
   "outputs": [
    {
     "name": "stdout",
     "output_type": "stream",
     "text": [
      "Example 0: Predicted class: 7, Actual class: 7\n",
      "Example 1: Predicted class: 0, Actual class: 2\n"
     ]
    }
   ],
   "source": [
    "# Compare the predicted class with the actual class\n",
    "for i in range(2):\n",
    "    print(\n",
    "        f\"Example {i}: Predicted class: {pred[i].item()}\"\n",
    "        f\", Actual class: {y[i].item()}\"\n",
    "    )"
   ]
  },
  {
   "cell_type": "markdown",
   "id": "31a64ea1",
   "metadata": {},
   "source": [
    "\n",
    "`y` is the vector of target labels (ground truth) for the current batch. The shape of `y` is (64,). We want to compare the predicted classes (pred) with the target labels (y) element-wise. `pred` is what we calculated using `argmax` function in the previous step. The shape of `pred` is (64, 1) because we set `keepdim=True`, so, we need to reshape `y` to be the same shape as `pred` in order to compare them element-wise. We can do this by using `view_as(pred)` which reshapes `y` to the same shape as `pred`. \n",
    "\n",
    "- `sum()` in PyTorch sums all the `True` values as 1 and `False` values as 0. So, the result will be a matrix of size (64, 1) with 1s and 0s.\n",
    "\n",
    "Then we use the `eq()` function to compare the two tensors element-wise. The result will be a matrix of size (64, 1) with 1s and 0s. Finally, we use `sum()` to count the number of correct predictions and convert it to a Python integer using `item()`.\n",
    "\n",
    "\n",
    ">Note: It's not strictly necessary here to first keep the shape of output using `keepdim=True` and then use `view_as(pred)` to reshape the `y` tensor to the same shape as `pred`. We could have let the `pred` tensor be a 1-D tensor of size (64,) and then used `y` directly in the comparison. However, this is a common practice in to keep the tensor ranks consistent throughout the pipeline of training and inference (which could also be useful for debugging and batched operations).\n"
   ]
  },
  {
   "cell_type": "code",
   "execution_count": 21,
   "id": "a3234ea8",
   "metadata": {},
   "outputs": [
    {
     "name": "stdout",
     "output_type": "stream",
     "text": [
      "pred shape: torch.Size([64, 1])\n",
      "y shape: torch.Size([64])\n"
     ]
    }
   ],
   "source": [
    "print(f\"pred shape: {pred.shape}\\ny shape: {y.shape}\")"
   ]
  },
  {
   "cell_type": "markdown",
   "id": "774f6e0a",
   "metadata": {},
   "source": [
    "To compare the two matrix element-wise, we can use `eq()` function in PyTorch, however, the shape of two matrices should be the same. So, we reshape the targets `y` to be the same shape as `pred` which is (64, 1).\n",
    "\n"
   ]
  },
  {
   "cell_type": "code",
   "execution_count": 22,
   "id": "259e00b9",
   "metadata": {},
   "outputs": [
    {
     "name": "stdout",
     "output_type": "stream",
     "text": [
      "y_aligned shape: torch.Size([64, 1])\n"
     ]
    }
   ],
   "source": [
    "y_aligned = y.view_as(pred)\n",
    "print(f\"y_aligned shape: {y_aligned.shape}\")"
   ]
  },
  {
   "cell_type": "code",
   "execution_count": 23,
   "id": "a20417fb",
   "metadata": {},
   "outputs": [
    {
     "name": "stdout",
     "output_type": "stream",
     "text": [
      "Comparison result shape: torch.Size([64, 1])\n",
      "First 2 comparison results:\n",
      "tensor([[ True],\n",
      "        [False]])\n"
     ]
    }
   ],
   "source": [
    "pred_y_comparison = pred.eq(y_aligned)\n",
    "print(f\"Comparison result shape: {pred_y_comparison.shape}\")\n",
    "print(f\"First 2 comparison results:\\n{pred_y_comparison[0:2]}\")"
   ]
  },
  {
   "cell_type": "markdown",
   "id": "4b3a35f9",
   "metadata": {},
   "source": [
    "Now we compare the predicted classes with the actual classes (labels) for all examples in the batch. We compare them one by one, if they are equal, we count 1 and if not, we count 0. Then we sum them up the total predictions which then gives us the number of correct predictions for each batch.\n"
   ]
  },
  {
   "cell_type": "code",
   "execution_count": 24,
   "id": "778a9791",
   "metadata": {},
   "outputs": [
    {
     "name": "stdout",
     "output_type": "stream",
     "text": [
      "Sum of comparison results: 42\n"
     ]
    }
   ],
   "source": [
    "comparison_sum = pred_y_comparison.sum().item()\n",
    "print(f\"Sum of comparison results: {comparison_sum}\")"
   ]
  },
  {
   "cell_type": "markdown",
   "id": "89737b2d",
   "metadata": {},
   "source": [
    "The above number is the total of all the ones and zeros in the matrix (1 for correct prediction and 0 for incorrect prediction). So, the above number is the total number of correct predictions for the entire batch.\n",
    "\n",
    "To get the total number of correct predictions for the entire test dataset, we need to sum all the correct predictions for all batches together. See below for the complete code."
   ]
  },
  {
   "cell_type": "markdown",
   "id": "cf8509a9",
   "metadata": {},
   "source": [
    "```py\n",
    "correct += pred.eq(y.view_as(pred)).sum().item()\n",
    "```\n"
   ]
  },
  {
   "cell_type": "markdown",
   "id": "eeb026cf",
   "metadata": {},
   "source": [
    "#### Putting Optimization and Evaluation Together\n",
    "Now we can put everything together and create the training and evaluation loop. In here we define the number of epochs and then loop through the training and evaluation steps for each epoch. \n"
   ]
  },
  {
   "cell_type": "code",
   "execution_count": 25,
   "id": "7e5377e5",
   "metadata": {},
   "outputs": [
    {
     "name": "stdout",
     "output_type": "stream",
     "text": [
      "Epoch 1/3\n",
      "-------------------------------\n",
      "[Batch:    1/938 Processed:    64/60000 (0%)]\tLoss: 2.088306\n",
      "[Batch:  100/938 Processed:  6400/60000 (11%)]\tLoss: 2.057869\n",
      "[Batch:  200/938 Processed: 12800/60000 (21%)]\tLoss: 2.107266\n",
      "[Batch:  300/938 Processed: 19200/60000 (32%)]\tLoss: 1.994177\n",
      "[Batch:  400/938 Processed: 25600/60000 (43%)]\tLoss: 2.041707\n",
      "[Batch:  500/938 Processed: 32000/60000 (53%)]\tLoss: 2.025375\n",
      "[Batch:  600/938 Processed: 38400/60000 (64%)]\tLoss: 1.961997\n",
      "[Batch:  700/938 Processed: 44800/60000 (75%)]\tLoss: 2.017157\n",
      "[Batch:  800/938 Processed: 51200/60000 (85%)]\tLoss: 1.940468\n",
      "[Batch:  900/938 Processed: 57600/60000 (96%)]\tLoss: 1.910179\n",
      "Test Result:\n",
      " Average loss: 1.9061, Accuracy: 6872/10000 (69%)\n",
      "\n",
      "Epoch 2/3\n",
      "-------------------------------\n",
      "[Batch:    1/938 Processed:    64/60000 (0%)]\tLoss: 1.903121\n",
      "[Batch:  100/938 Processed:  6400/60000 (11%)]\tLoss: 1.846806\n",
      "[Batch:  200/938 Processed: 12800/60000 (21%)]\tLoss: 1.933704\n",
      "[Batch:  300/938 Processed: 19200/60000 (32%)]\tLoss: 1.755936\n",
      "[Batch:  400/938 Processed: 25600/60000 (43%)]\tLoss: 1.818471\n",
      "[Batch:  500/938 Processed: 32000/60000 (53%)]\tLoss: 1.790027\n",
      "[Batch:  600/938 Processed: 38400/60000 (64%)]\tLoss: 1.701609\n",
      "[Batch:  700/938 Processed: 44800/60000 (75%)]\tLoss: 1.795205\n",
      "[Batch:  800/938 Processed: 51200/60000 (85%)]\tLoss: 1.674100\n",
      "[Batch:  900/938 Processed: 57600/60000 (96%)]\tLoss: 1.635013\n",
      "Test Result:\n",
      " Average loss: 1.6227, Accuracy: 7177/10000 (72%)\n",
      "\n",
      "Epoch 3/3\n",
      "-------------------------------\n",
      "[Batch:    1/938 Processed:    64/60000 (0%)]\tLoss: 1.630218\n",
      "[Batch:  100/938 Processed:  6400/60000 (11%)]\tLoss: 1.540465\n",
      "[Batch:  200/938 Processed: 12800/60000 (21%)]\tLoss: 1.665339\n",
      "[Batch:  300/938 Processed: 19200/60000 (32%)]\tLoss: 1.444314\n",
      "[Batch:  400/938 Processed: 25600/60000 (43%)]\tLoss: 1.499389\n",
      "[Batch:  500/938 Processed: 32000/60000 (53%)]\tLoss: 1.467534\n",
      "[Batch:  600/938 Processed: 38400/60000 (64%)]\tLoss: 1.378188\n",
      "[Batch:  700/938 Processed: 44800/60000 (75%)]\tLoss: 1.510414\n",
      "[Batch:  800/938 Processed: 51200/60000 (85%)]\tLoss: 1.365509\n",
      "[Batch:  900/938 Processed: 57600/60000 (96%)]\tLoss: 1.320750\n",
      "Test Result:\n",
      " Average loss: 1.3028, Accuracy: 7525/10000 (75%)\n",
      "\n"
     ]
    }
   ],
   "source": [
    "epochs = 3\n",
    "for t in range(epochs):\n",
    "    print(f\"Epoch {t + 1}/{epochs}\\n-------------------------------\")\n",
    "    train(model, device, train_dataloader, optimizer)\n",
    "    test(model, device, test_dataloader)\n",
    "    print()"
   ]
  },
  {
   "cell_type": "markdown",
   "id": "2f137798",
   "metadata": {},
   "source": [
    "### Inference\n",
    "After we have trained our model and we are happy with the results, then we can make it ready for inference. The prerequisite for inference is that we need to be able to persist the model's parameters (weights and biases) to a storage device and then load them back later for inference.\n",
    "\n",
    "PyTorch provides a simple way to save and load the model's parameters using `torch.save()` and `torch.load()` functions. \n"
   ]
  },
  {
   "cell_type": "code",
   "execution_count": 26,
   "id": "cdfe001d",
   "metadata": {},
   "outputs": [],
   "source": [
    "# Save the model into a file\n",
    "torch.save(model.state_dict(), \"model.pth\")"
   ]
  },
  {
   "cell_type": "markdown",
   "id": "3b7337fb",
   "metadata": {},
   "source": [
    "Loading the Model back from the file."
   ]
  },
  {
   "cell_type": "code",
   "execution_count": 27,
   "id": "0764e176",
   "metadata": {},
   "outputs": [
    {
     "data": {
      "text/plain": [
       "<All keys matched successfully>"
      ]
     },
     "execution_count": 27,
     "metadata": {},
     "output_type": "execute_result"
    }
   ],
   "source": [
    "loaded_model = NeuralNetwork().to(device)\n",
    "loaded_model.load_state_dict(torch.load(\"model.pth\", weights_only=True))"
   ]
  },
  {
   "cell_type": "code",
   "execution_count": 28,
   "id": "7ef62ad3",
   "metadata": {},
   "outputs": [
    {
     "name": "stdout",
     "output_type": "stream",
     "text": [
      "Predicted class: 7, Actual class: 7\n"
     ]
    }
   ],
   "source": [
    "loaded_model.eval()\n",
    "\n",
    "# Inference for the first example in the test dataset\n",
    "x = test_data[0][0]\n",
    "y = test_data[0][1]\n",
    "\n",
    "with torch.no_grad():\n",
    "    x = x.to(device)\n",
    "    logits = loaded_model(x)\n",
    "    pred = logits.argmax(dim=1, keepdim=True)\n",
    "    print(f\"Predicted class: {pred.item()}, Actual class: {y}\")"
   ]
  }
 ],
 "metadata": {
  "kernelspec": {
   "display_name": "base",
   "language": "python",
   "name": "python3"
  },
  "language_info": {
   "codemirror_mode": {
    "name": "ipython",
    "version": 3
   },
   "file_extension": ".py",
   "mimetype": "text/x-python",
   "name": "python",
   "nbconvert_exporter": "python",
   "pygments_lexer": "ipython3",
   "version": "3.12.7"
  }
 },
 "nbformat": 4,
 "nbformat_minor": 5
}
